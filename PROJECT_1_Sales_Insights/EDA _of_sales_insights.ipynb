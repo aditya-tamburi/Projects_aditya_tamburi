{
 "cells": [
  {
   "cell_type": "markdown",
   "id": "b712a9e3",
   "metadata": {},
   "source": [
    "SALES INSIGHTS"
   ]
  },
  {
   "cell_type": "code",
   "execution_count": 1,
   "id": "6fcb8ac5",
   "metadata": {},
   "outputs": [],
   "source": [
    "import numpy as np\n",
    "import pandas as pd\n",
    "import matplotlib.pyplot as plt\n",
    "import seaborn as sns"
   ]
  },
  {
   "cell_type": "code",
   "execution_count": 37,
   "id": "ffc81ca8",
   "metadata": {},
   "outputs": [],
   "source": [
    "df_customer = pd.read_excel(\"customer.xlsx\")\n",
    "df_date = pd.read_excel(\"date.xlsx\")\n",
    "df_markets = pd.read_excel(\"markets.xlsx\")\n",
    "df_prod = pd.read_excel(\"products.xlsx\")\n",
    "df_trans = pd.read_excel(\"transactions.xlsx\")\n"
   ]
  },
  {
   "cell_type": "code",
   "execution_count": 38,
   "id": "d0220ae2",
   "metadata": {},
   "outputs": [],
   "source": [
    "#transaction analysis "
   ]
  },
  {
   "cell_type": "code",
   "execution_count": 39,
   "id": "ebfbcc63",
   "metadata": {},
   "outputs": [
    {
     "data": {
      "text/html": [
       "<div>\n",
       "<style scoped>\n",
       "    .dataframe tbody tr th:only-of-type {\n",
       "        vertical-align: middle;\n",
       "    }\n",
       "\n",
       "    .dataframe tbody tr th {\n",
       "        vertical-align: top;\n",
       "    }\n",
       "\n",
       "    .dataframe thead th {\n",
       "        text-align: right;\n",
       "    }\n",
       "</style>\n",
       "<table border=\"1\" class=\"dataframe\">\n",
       "  <thead>\n",
       "    <tr style=\"text-align: right;\">\n",
       "      <th></th>\n",
       "      <th>product_code</th>\n",
       "      <th>customer_code</th>\n",
       "      <th>market_code</th>\n",
       "      <th>order_date</th>\n",
       "      <th>sales_qty</th>\n",
       "      <th>sales_amount</th>\n",
       "      <th>currency</th>\n",
       "    </tr>\n",
       "  </thead>\n",
       "  <tbody>\n",
       "    <tr>\n",
       "      <th>0</th>\n",
       "      <td>Prod001</td>\n",
       "      <td>Cus001</td>\n",
       "      <td>Mark001</td>\n",
       "      <td>2017-10-10</td>\n",
       "      <td>100</td>\n",
       "      <td>41241</td>\n",
       "      <td>INR</td>\n",
       "    </tr>\n",
       "    <tr>\n",
       "      <th>1</th>\n",
       "      <td>Prod001</td>\n",
       "      <td>Cus002</td>\n",
       "      <td>Mark002</td>\n",
       "      <td>2018-05-08</td>\n",
       "      <td>3</td>\n",
       "      <td>-1</td>\n",
       "      <td>INR</td>\n",
       "    </tr>\n",
       "    <tr>\n",
       "      <th>2</th>\n",
       "      <td>Prod002</td>\n",
       "      <td>Cus003</td>\n",
       "      <td>Mark003</td>\n",
       "      <td>2018-04-06</td>\n",
       "      <td>1</td>\n",
       "      <td>875</td>\n",
       "      <td>INR</td>\n",
       "    </tr>\n",
       "    <tr>\n",
       "      <th>3</th>\n",
       "      <td>Prod002</td>\n",
       "      <td>Cus003</td>\n",
       "      <td>Mark003</td>\n",
       "      <td>2018-04-11</td>\n",
       "      <td>1</td>\n",
       "      <td>583</td>\n",
       "      <td>INR</td>\n",
       "    </tr>\n",
       "    <tr>\n",
       "      <th>4</th>\n",
       "      <td>Prod002</td>\n",
       "      <td>Cus004</td>\n",
       "      <td>Mark003</td>\n",
       "      <td>2018-06-18</td>\n",
       "      <td>6</td>\n",
       "      <td>7176</td>\n",
       "      <td>INR</td>\n",
       "    </tr>\n",
       "  </tbody>\n",
       "</table>\n",
       "</div>"
      ],
      "text/plain": [
       "  product_code customer_code market_code order_date  sales_qty  sales_amount  \\\n",
       "0      Prod001        Cus001     Mark001 2017-10-10        100         41241   \n",
       "1      Prod001        Cus002     Mark002 2018-05-08          3            -1   \n",
       "2      Prod002        Cus003     Mark003 2018-04-06          1           875   \n",
       "3      Prod002        Cus003     Mark003 2018-04-11          1           583   \n",
       "4      Prod002        Cus004     Mark003 2018-06-18          6          7176   \n",
       "\n",
       "  currency  \n",
       "0      INR  \n",
       "1      INR  \n",
       "2      INR  \n",
       "3      INR  \n",
       "4      INR  "
      ]
     },
     "execution_count": 39,
     "metadata": {},
     "output_type": "execute_result"
    }
   ],
   "source": [
    "df_trans.head()"
   ]
  },
  {
   "cell_type": "code",
   "execution_count": 40,
   "id": "98820c58",
   "metadata": {},
   "outputs": [
    {
     "data": {
      "text/plain": [
       "product_code     0\n",
       "customer_code    0\n",
       "market_code      0\n",
       "order_date       0\n",
       "sales_qty        0\n",
       "sales_amount     0\n",
       "currency         0\n",
       "dtype: int64"
      ]
     },
     "execution_count": 40,
     "metadata": {},
     "output_type": "execute_result"
    }
   ],
   "source": [
    "#null values \n",
    "df_trans.isnull().sum()"
   ]
  },
  {
   "cell_type": "code",
   "execution_count": 41,
   "id": "5133b4cb",
   "metadata": {},
   "outputs": [
    {
     "name": "stderr",
     "output_type": "stream",
     "text": [
      "C:\\Users\\aditya\\AppData\\Local\\Temp/ipykernel_18404/2192986076.py:1: FutureWarning: Treating datetime data as categorical rather than numeric in `.describe` is deprecated and will be removed in a future version of pandas. Specify `datetime_is_numeric=True` to silence this warning and adopt the future behavior now.\n",
      "  df_trans.describe(include='all')\n"
     ]
    },
    {
     "data": {
      "text/html": [
       "<div>\n",
       "<style scoped>\n",
       "    .dataframe tbody tr th:only-of-type {\n",
       "        vertical-align: middle;\n",
       "    }\n",
       "\n",
       "    .dataframe tbody tr th {\n",
       "        vertical-align: top;\n",
       "    }\n",
       "\n",
       "    .dataframe thead th {\n",
       "        text-align: right;\n",
       "    }\n",
       "</style>\n",
       "<table border=\"1\" class=\"dataframe\">\n",
       "  <thead>\n",
       "    <tr style=\"text-align: right;\">\n",
       "      <th></th>\n",
       "      <th>product_code</th>\n",
       "      <th>customer_code</th>\n",
       "      <th>market_code</th>\n",
       "      <th>order_date</th>\n",
       "      <th>sales_qty</th>\n",
       "      <th>sales_amount</th>\n",
       "      <th>currency</th>\n",
       "    </tr>\n",
       "  </thead>\n",
       "  <tbody>\n",
       "    <tr>\n",
       "      <th>count</th>\n",
       "      <td>150283</td>\n",
       "      <td>150283</td>\n",
       "      <td>150283</td>\n",
       "      <td>150283</td>\n",
       "      <td>150283.000000</td>\n",
       "      <td>1.502830e+05</td>\n",
       "      <td>150283</td>\n",
       "    </tr>\n",
       "    <tr>\n",
       "      <th>unique</th>\n",
       "      <td>339</td>\n",
       "      <td>38</td>\n",
       "      <td>15</td>\n",
       "      <td>806</td>\n",
       "      <td>NaN</td>\n",
       "      <td>NaN</td>\n",
       "      <td>4</td>\n",
       "    </tr>\n",
       "    <tr>\n",
       "      <th>top</th>\n",
       "      <td>Prod065</td>\n",
       "      <td>Cus005</td>\n",
       "      <td>Mark011</td>\n",
       "      <td>2018-06-22 00:00:00</td>\n",
       "      <td>NaN</td>\n",
       "      <td>NaN</td>\n",
       "      <td>INR_x000D_</td>\n",
       "    </tr>\n",
       "    <tr>\n",
       "      <th>freq</th>\n",
       "      <td>4031</td>\n",
       "      <td>20003</td>\n",
       "      <td>47923</td>\n",
       "      <td>378</td>\n",
       "      <td>NaN</td>\n",
       "      <td>NaN</td>\n",
       "      <td>150000</td>\n",
       "    </tr>\n",
       "    <tr>\n",
       "      <th>first</th>\n",
       "      <td>NaN</td>\n",
       "      <td>NaN</td>\n",
       "      <td>NaN</td>\n",
       "      <td>2017-10-04 00:00:00</td>\n",
       "      <td>NaN</td>\n",
       "      <td>NaN</td>\n",
       "      <td>NaN</td>\n",
       "    </tr>\n",
       "    <tr>\n",
       "      <th>last</th>\n",
       "      <td>NaN</td>\n",
       "      <td>NaN</td>\n",
       "      <td>NaN</td>\n",
       "      <td>2020-06-26 00:00:00</td>\n",
       "      <td>NaN</td>\n",
       "      <td>NaN</td>\n",
       "      <td>NaN</td>\n",
       "    </tr>\n",
       "    <tr>\n",
       "      <th>mean</th>\n",
       "      <td>NaN</td>\n",
       "      <td>NaN</td>\n",
       "      <td>NaN</td>\n",
       "      <td>NaN</td>\n",
       "      <td>16.265413</td>\n",
       "      <td>6.564720e+03</td>\n",
       "      <td>NaN</td>\n",
       "    </tr>\n",
       "    <tr>\n",
       "      <th>std</th>\n",
       "      <td>NaN</td>\n",
       "      <td>NaN</td>\n",
       "      <td>NaN</td>\n",
       "      <td>NaN</td>\n",
       "      <td>114.760796</td>\n",
       "      <td>2.991724e+04</td>\n",
       "      <td>NaN</td>\n",
       "    </tr>\n",
       "    <tr>\n",
       "      <th>min</th>\n",
       "      <td>NaN</td>\n",
       "      <td>NaN</td>\n",
       "      <td>NaN</td>\n",
       "      <td>NaN</td>\n",
       "      <td>1.000000</td>\n",
       "      <td>-1.000000e+00</td>\n",
       "      <td>NaN</td>\n",
       "    </tr>\n",
       "    <tr>\n",
       "      <th>25%</th>\n",
       "      <td>NaN</td>\n",
       "      <td>NaN</td>\n",
       "      <td>NaN</td>\n",
       "      <td>NaN</td>\n",
       "      <td>1.000000</td>\n",
       "      <td>1.710000e+02</td>\n",
       "      <td>NaN</td>\n",
       "    </tr>\n",
       "    <tr>\n",
       "      <th>50%</th>\n",
       "      <td>NaN</td>\n",
       "      <td>NaN</td>\n",
       "      <td>NaN</td>\n",
       "      <td>NaN</td>\n",
       "      <td>1.000000</td>\n",
       "      <td>5.090000e+02</td>\n",
       "      <td>NaN</td>\n",
       "    </tr>\n",
       "    <tr>\n",
       "      <th>75%</th>\n",
       "      <td>NaN</td>\n",
       "      <td>NaN</td>\n",
       "      <td>NaN</td>\n",
       "      <td>NaN</td>\n",
       "      <td>7.000000</td>\n",
       "      <td>3.000000e+03</td>\n",
       "      <td>NaN</td>\n",
       "    </tr>\n",
       "    <tr>\n",
       "      <th>max</th>\n",
       "      <td>NaN</td>\n",
       "      <td>NaN</td>\n",
       "      <td>NaN</td>\n",
       "      <td>NaN</td>\n",
       "      <td>14049.000000</td>\n",
       "      <td>1.510944e+06</td>\n",
       "      <td>NaN</td>\n",
       "    </tr>\n",
       "  </tbody>\n",
       "</table>\n",
       "</div>"
      ],
      "text/plain": [
       "       product_code customer_code market_code           order_date  \\\n",
       "count        150283        150283      150283               150283   \n",
       "unique          339            38          15                  806   \n",
       "top         Prod065        Cus005     Mark011  2018-06-22 00:00:00   \n",
       "freq           4031         20003       47923                  378   \n",
       "first           NaN           NaN         NaN  2017-10-04 00:00:00   \n",
       "last            NaN           NaN         NaN  2020-06-26 00:00:00   \n",
       "mean            NaN           NaN         NaN                  NaN   \n",
       "std             NaN           NaN         NaN                  NaN   \n",
       "min             NaN           NaN         NaN                  NaN   \n",
       "25%             NaN           NaN         NaN                  NaN   \n",
       "50%             NaN           NaN         NaN                  NaN   \n",
       "75%             NaN           NaN         NaN                  NaN   \n",
       "max             NaN           NaN         NaN                  NaN   \n",
       "\n",
       "            sales_qty  sales_amount    currency  \n",
       "count   150283.000000  1.502830e+05      150283  \n",
       "unique            NaN           NaN           4  \n",
       "top               NaN           NaN  INR_x000D_  \n",
       "freq              NaN           NaN      150000  \n",
       "first             NaN           NaN         NaN  \n",
       "last              NaN           NaN         NaN  \n",
       "mean        16.265413  6.564720e+03         NaN  \n",
       "std        114.760796  2.991724e+04         NaN  \n",
       "min          1.000000 -1.000000e+00         NaN  \n",
       "25%          1.000000  1.710000e+02         NaN  \n",
       "50%          1.000000  5.090000e+02         NaN  \n",
       "75%          7.000000  3.000000e+03         NaN  \n",
       "max      14049.000000  1.510944e+06         NaN  "
      ]
     },
     "execution_count": 41,
     "metadata": {},
     "output_type": "execute_result"
    }
   ],
   "source": [
    "df_trans.describe(include='all')"
   ]
  },
  {
   "cell_type": "code",
   "execution_count": 42,
   "id": "5c22c7a8",
   "metadata": {},
   "outputs": [
    {
     "data": {
      "text/html": [
       "<div>\n",
       "<style scoped>\n",
       "    .dataframe tbody tr th:only-of-type {\n",
       "        vertical-align: middle;\n",
       "    }\n",
       "\n",
       "    .dataframe tbody tr th {\n",
       "        vertical-align: top;\n",
       "    }\n",
       "\n",
       "    .dataframe thead th {\n",
       "        text-align: right;\n",
       "    }\n",
       "</style>\n",
       "<table border=\"1\" class=\"dataframe\">\n",
       "  <thead>\n",
       "    <tr style=\"text-align: right;\">\n",
       "      <th></th>\n",
       "      <th>product_code</th>\n",
       "      <th>customer_code</th>\n",
       "      <th>market_code</th>\n",
       "      <th>order_date</th>\n",
       "      <th>sales_qty</th>\n",
       "      <th>sales_amount</th>\n",
       "      <th>currency</th>\n",
       "    </tr>\n",
       "  </thead>\n",
       "  <tbody>\n",
       "    <tr>\n",
       "      <th>1</th>\n",
       "      <td>Prod001</td>\n",
       "      <td>Cus002</td>\n",
       "      <td>Mark002</td>\n",
       "      <td>2018-05-08</td>\n",
       "      <td>3</td>\n",
       "      <td>-1</td>\n",
       "      <td>INR</td>\n",
       "    </tr>\n",
       "    <tr>\n",
       "      <th>159</th>\n",
       "      <td>Prod010</td>\n",
       "      <td>Cus015</td>\n",
       "      <td>Mark006</td>\n",
       "      <td>2018-05-26</td>\n",
       "      <td>1</td>\n",
       "      <td>0</td>\n",
       "      <td>INR</td>\n",
       "    </tr>\n",
       "    <tr>\n",
       "      <th>196</th>\n",
       "      <td>Prod010</td>\n",
       "      <td>Cus003</td>\n",
       "      <td>Mark003</td>\n",
       "      <td>2019-04-30</td>\n",
       "      <td>1</td>\n",
       "      <td>0</td>\n",
       "      <td>INR</td>\n",
       "    </tr>\n",
       "    <tr>\n",
       "      <th>239</th>\n",
       "      <td>Prod011</td>\n",
       "      <td>Cus018</td>\n",
       "      <td>Mark002</td>\n",
       "      <td>2018-12-28</td>\n",
       "      <td>1</td>\n",
       "      <td>0</td>\n",
       "      <td>INR</td>\n",
       "    </tr>\n",
       "    <tr>\n",
       "      <th>282</th>\n",
       "      <td>Prod001</td>\n",
       "      <td>Cus002</td>\n",
       "      <td>Mark002</td>\n",
       "      <td>2018-05-08</td>\n",
       "      <td>3</td>\n",
       "      <td>-1</td>\n",
       "      <td>INR_x000D_</td>\n",
       "    </tr>\n",
       "    <tr>\n",
       "      <th>...</th>\n",
       "      <td>...</td>\n",
       "      <td>...</td>\n",
       "      <td>...</td>\n",
       "      <td>...</td>\n",
       "      <td>...</td>\n",
       "      <td>...</td>\n",
       "      <td>...</td>\n",
       "    </tr>\n",
       "    <tr>\n",
       "      <th>148971</th>\n",
       "      <td>Prod337</td>\n",
       "      <td>Cus015</td>\n",
       "      <td>Mark003</td>\n",
       "      <td>2019-08-16</td>\n",
       "      <td>1</td>\n",
       "      <td>0</td>\n",
       "      <td>INR_x000D_</td>\n",
       "    </tr>\n",
       "    <tr>\n",
       "      <th>149019</th>\n",
       "      <td>Prod337</td>\n",
       "      <td>Cus015</td>\n",
       "      <td>Mark003</td>\n",
       "      <td>2019-09-09</td>\n",
       "      <td>1</td>\n",
       "      <td>0</td>\n",
       "      <td>INR_x000D_</td>\n",
       "    </tr>\n",
       "    <tr>\n",
       "      <th>149055</th>\n",
       "      <td>Prod337</td>\n",
       "      <td>Cus015</td>\n",
       "      <td>Mark003</td>\n",
       "      <td>2019-09-26</td>\n",
       "      <td>2</td>\n",
       "      <td>0</td>\n",
       "      <td>INR_x000D_</td>\n",
       "    </tr>\n",
       "    <tr>\n",
       "      <th>149166</th>\n",
       "      <td>Prod337</td>\n",
       "      <td>Cus015</td>\n",
       "      <td>Mark003</td>\n",
       "      <td>2019-11-19</td>\n",
       "      <td>1</td>\n",
       "      <td>0</td>\n",
       "      <td>INR_x000D_</td>\n",
       "    </tr>\n",
       "    <tr>\n",
       "      <th>150197</th>\n",
       "      <td>Prod339</td>\n",
       "      <td>Cus006</td>\n",
       "      <td>Mark004</td>\n",
       "      <td>2019-01-29</td>\n",
       "      <td>2</td>\n",
       "      <td>0</td>\n",
       "      <td>INR_x000D_</td>\n",
       "    </tr>\n",
       "  </tbody>\n",
       "</table>\n",
       "<p>1611 rows × 7 columns</p>\n",
       "</div>"
      ],
      "text/plain": [
       "       product_code customer_code market_code order_date  sales_qty  \\\n",
       "1           Prod001        Cus002     Mark002 2018-05-08          3   \n",
       "159         Prod010        Cus015     Mark006 2018-05-26          1   \n",
       "196         Prod010        Cus003     Mark003 2019-04-30          1   \n",
       "239         Prod011        Cus018     Mark002 2018-12-28          1   \n",
       "282         Prod001        Cus002     Mark002 2018-05-08          3   \n",
       "...             ...           ...         ...        ...        ...   \n",
       "148971      Prod337        Cus015     Mark003 2019-08-16          1   \n",
       "149019      Prod337        Cus015     Mark003 2019-09-09          1   \n",
       "149055      Prod337        Cus015     Mark003 2019-09-26          2   \n",
       "149166      Prod337        Cus015     Mark003 2019-11-19          1   \n",
       "150197      Prod339        Cus006     Mark004 2019-01-29          2   \n",
       "\n",
       "        sales_amount    currency  \n",
       "1                 -1         INR  \n",
       "159                0         INR  \n",
       "196                0         INR  \n",
       "239                0         INR  \n",
       "282               -1  INR_x000D_  \n",
       "...              ...         ...  \n",
       "148971             0  INR_x000D_  \n",
       "149019             0  INR_x000D_  \n",
       "149055             0  INR_x000D_  \n",
       "149166             0  INR_x000D_  \n",
       "150197             0  INR_x000D_  \n",
       "\n",
       "[1611 rows x 7 columns]"
      ]
     },
     "execution_count": 42,
     "metadata": {},
     "output_type": "execute_result"
    }
   ],
   "source": [
    "#from above table found that there are salesamount which are in negative and zero even after sales quantity is there ,so finding and drops those\n",
    "\n",
    "\n",
    "df_trans_with_zero_sales_amount =  df_trans[df_trans['sales_amount' ]<=0]\n",
    "df_trans_with_zero_sales_amount"
   ]
  },
  {
   "cell_type": "code",
   "execution_count": 43,
   "id": "e4dc3380",
   "metadata": {},
   "outputs": [
    {
     "data": {
      "text/plain": [
       "(150283, 7)"
      ]
     },
     "execution_count": 43,
     "metadata": {},
     "output_type": "execute_result"
    }
   ],
   "source": [
    "#before droping\n",
    "df_trans.shape"
   ]
  },
  {
   "cell_type": "code",
   "execution_count": 44,
   "id": "cfd5f006",
   "metadata": {},
   "outputs": [],
   "source": [
    "df_trans.drop(index = df_trans_with_zero_sales_amount.index ,axis = 1 , inplace=True)"
   ]
  },
  {
   "cell_type": "code",
   "execution_count": 45,
   "id": "8d5102e1",
   "metadata": {},
   "outputs": [
    {
     "data": {
      "text/plain": [
       "(148672, 7)"
      ]
     },
     "execution_count": 45,
     "metadata": {},
     "output_type": "execute_result"
    }
   ],
   "source": [
    "#after droping\n",
    "df_trans.shape"
   ]
  },
  {
   "cell_type": "code",
   "execution_count": 46,
   "id": "4a5b5f2b",
   "metadata": {},
   "outputs": [
    {
     "data": {
      "text/html": [
       "<div>\n",
       "<style scoped>\n",
       "    .dataframe tbody tr th:only-of-type {\n",
       "        vertical-align: middle;\n",
       "    }\n",
       "\n",
       "    .dataframe tbody tr th {\n",
       "        vertical-align: top;\n",
       "    }\n",
       "\n",
       "    .dataframe thead th {\n",
       "        text-align: right;\n",
       "    }\n",
       "</style>\n",
       "<table border=\"1\" class=\"dataframe\">\n",
       "  <thead>\n",
       "    <tr style=\"text-align: right;\">\n",
       "      <th></th>\n",
       "      <th>product_code</th>\n",
       "      <th>customer_code</th>\n",
       "      <th>market_code</th>\n",
       "      <th>order_date</th>\n",
       "      <th>sales_qty</th>\n",
       "      <th>sales_amount</th>\n",
       "      <th>currency</th>\n",
       "    </tr>\n",
       "  </thead>\n",
       "  <tbody>\n",
       "    <tr>\n",
       "      <th>0</th>\n",
       "      <td>Prod001</td>\n",
       "      <td>Cus001</td>\n",
       "      <td>Mark001</td>\n",
       "      <td>2017-10-10</td>\n",
       "      <td>100</td>\n",
       "      <td>41241</td>\n",
       "      <td>INR</td>\n",
       "    </tr>\n",
       "    <tr>\n",
       "      <th>2</th>\n",
       "      <td>Prod002</td>\n",
       "      <td>Cus003</td>\n",
       "      <td>Mark003</td>\n",
       "      <td>2018-04-06</td>\n",
       "      <td>1</td>\n",
       "      <td>875</td>\n",
       "      <td>INR</td>\n",
       "    </tr>\n",
       "    <tr>\n",
       "      <th>3</th>\n",
       "      <td>Prod002</td>\n",
       "      <td>Cus003</td>\n",
       "      <td>Mark003</td>\n",
       "      <td>2018-04-11</td>\n",
       "      <td>1</td>\n",
       "      <td>583</td>\n",
       "      <td>INR</td>\n",
       "    </tr>\n",
       "    <tr>\n",
       "      <th>4</th>\n",
       "      <td>Prod002</td>\n",
       "      <td>Cus004</td>\n",
       "      <td>Mark003</td>\n",
       "      <td>2018-06-18</td>\n",
       "      <td>6</td>\n",
       "      <td>7176</td>\n",
       "      <td>INR</td>\n",
       "    </tr>\n",
       "    <tr>\n",
       "      <th>5</th>\n",
       "      <td>Prod003</td>\n",
       "      <td>Cus005</td>\n",
       "      <td>Mark004</td>\n",
       "      <td>2017-11-20</td>\n",
       "      <td>59</td>\n",
       "      <td>500</td>\n",
       "      <td>USD</td>\n",
       "    </tr>\n",
       "  </tbody>\n",
       "</table>\n",
       "</div>"
      ],
      "text/plain": [
       "  product_code customer_code market_code order_date  sales_qty  sales_amount  \\\n",
       "0      Prod001        Cus001     Mark001 2017-10-10        100         41241   \n",
       "2      Prod002        Cus003     Mark003 2018-04-06          1           875   \n",
       "3      Prod002        Cus003     Mark003 2018-04-11          1           583   \n",
       "4      Prod002        Cus004     Mark003 2018-06-18          6          7176   \n",
       "5      Prod003        Cus005     Mark004 2017-11-20         59           500   \n",
       "\n",
       "  currency  \n",
       "0      INR  \n",
       "2      INR  \n",
       "3      INR  \n",
       "4      INR  \n",
       "5      USD  "
      ]
     },
     "execution_count": 46,
     "metadata": {},
     "output_type": "execute_result"
    }
   ],
   "source": [
    "df_trans.head()"
   ]
  },
  {
   "cell_type": "code",
   "execution_count": 47,
   "id": "3c5d9ffd",
   "metadata": {},
   "outputs": [
    {
     "data": {
      "text/plain": [
       "INR_x000D_    148393\n",
       "INR              275\n",
       "USD                2\n",
       "USD_x000D_         2\n",
       "Name: currency, dtype: int64"
      ]
     },
     "execution_count": 47,
     "metadata": {},
     "output_type": "execute_result"
    }
   ],
   "source": [
    "#from the describe table found that there are different types of currency ,hence need to convert to one type \n",
    "pd.value_counts(df_trans.currency)"
   ]
  },
  {
   "cell_type": "code",
   "execution_count": 48,
   "id": "8d4c317d",
   "metadata": {},
   "outputs": [
    {
     "data": {
      "text/html": [
       "<div>\n",
       "<style scoped>\n",
       "    .dataframe tbody tr th:only-of-type {\n",
       "        vertical-align: middle;\n",
       "    }\n",
       "\n",
       "    .dataframe tbody tr th {\n",
       "        vertical-align: top;\n",
       "    }\n",
       "\n",
       "    .dataframe thead th {\n",
       "        text-align: right;\n",
       "    }\n",
       "</style>\n",
       "<table border=\"1\" class=\"dataframe\">\n",
       "  <thead>\n",
       "    <tr style=\"text-align: right;\">\n",
       "      <th></th>\n",
       "      <th>product_code</th>\n",
       "      <th>customer_code</th>\n",
       "      <th>market_code</th>\n",
       "      <th>order_date</th>\n",
       "      <th>sales_qty</th>\n",
       "      <th>sales_amount</th>\n",
       "      <th>currency</th>\n",
       "    </tr>\n",
       "  </thead>\n",
       "  <tbody>\n",
       "    <tr>\n",
       "      <th>5</th>\n",
       "      <td>Prod003</td>\n",
       "      <td>Cus005</td>\n",
       "      <td>Mark004</td>\n",
       "      <td>2017-11-20</td>\n",
       "      <td>59</td>\n",
       "      <td>500</td>\n",
       "      <td>USD</td>\n",
       "    </tr>\n",
       "    <tr>\n",
       "      <th>6</th>\n",
       "      <td>Prod003</td>\n",
       "      <td>Cus005</td>\n",
       "      <td>Mark004</td>\n",
       "      <td>2017-11-22</td>\n",
       "      <td>36</td>\n",
       "      <td>250</td>\n",
       "      <td>USD</td>\n",
       "    </tr>\n",
       "    <tr>\n",
       "      <th>286</th>\n",
       "      <td>Prod003</td>\n",
       "      <td>Cus005</td>\n",
       "      <td>Mark004</td>\n",
       "      <td>2017-11-20</td>\n",
       "      <td>59</td>\n",
       "      <td>500</td>\n",
       "      <td>USD_x000D_</td>\n",
       "    </tr>\n",
       "    <tr>\n",
       "      <th>287</th>\n",
       "      <td>Prod003</td>\n",
       "      <td>Cus005</td>\n",
       "      <td>Mark004</td>\n",
       "      <td>2017-11-22</td>\n",
       "      <td>36</td>\n",
       "      <td>250</td>\n",
       "      <td>USD_x000D_</td>\n",
       "    </tr>\n",
       "  </tbody>\n",
       "</table>\n",
       "</div>"
      ],
      "text/plain": [
       "    product_code customer_code market_code order_date  sales_qty  \\\n",
       "5        Prod003        Cus005     Mark004 2017-11-20         59   \n",
       "6        Prod003        Cus005     Mark004 2017-11-22         36   \n",
       "286      Prod003        Cus005     Mark004 2017-11-20         59   \n",
       "287      Prod003        Cus005     Mark004 2017-11-22         36   \n",
       "\n",
       "     sales_amount    currency  \n",
       "5             500         USD  \n",
       "6             250         USD  \n",
       "286           500  USD_x000D_  \n",
       "287           250  USD_x000D_  "
      ]
     },
     "execution_count": 48,
     "metadata": {},
     "output_type": "execute_result"
    }
   ],
   "source": [
    "df_trans[(df_trans[\"currency\"] == \"USD\")  | (df_trans[\"currency\"] == \"USD_x000D_\")]"
   ]
  },
  {
   "cell_type": "code",
   "execution_count": 49,
   "id": "6e94b8d5",
   "metadata": {},
   "outputs": [],
   "source": [
    "#converting usd to inr , 1 US Dollar = 82.90 Indian Rupee"
   ]
  },
  {
   "cell_type": "code",
   "execution_count": 50,
   "id": "f815d0fb",
   "metadata": {},
   "outputs": [
    {
     "name": "stderr",
     "output_type": "stream",
     "text": [
      "C:\\Users\\aditya\\anaconda3\\lib\\site-packages\\pandas\\core\\frame.py:5238: SettingWithCopyWarning: \n",
      "A value is trying to be set on a copy of a slice from a DataFrame\n",
      "\n",
      "See the caveats in the documentation: https://pandas.pydata.org/pandas-docs/stable/user_guide/indexing.html#returning-a-view-versus-a-copy\n",
      "  return super().replace(\n"
     ]
    }
   ],
   "source": [
    "df_trans[4:6].replace({500 : 41448 , 250 : 20724 } , inplace=True)"
   ]
  },
  {
   "cell_type": "code",
   "execution_count": 51,
   "id": "e7f94569",
   "metadata": {},
   "outputs": [],
   "source": [
    "df_trans[284:286].replace({500 : 41448 , 250 : 20724 } , inplace=True)"
   ]
  },
  {
   "cell_type": "code",
   "execution_count": 52,
   "id": "1e828148",
   "metadata": {},
   "outputs": [
    {
     "data": {
      "text/html": [
       "<div>\n",
       "<style scoped>\n",
       "    .dataframe tbody tr th:only-of-type {\n",
       "        vertical-align: middle;\n",
       "    }\n",
       "\n",
       "    .dataframe tbody tr th {\n",
       "        vertical-align: top;\n",
       "    }\n",
       "\n",
       "    .dataframe thead th {\n",
       "        text-align: right;\n",
       "    }\n",
       "</style>\n",
       "<table border=\"1\" class=\"dataframe\">\n",
       "  <thead>\n",
       "    <tr style=\"text-align: right;\">\n",
       "      <th></th>\n",
       "      <th>product_code</th>\n",
       "      <th>customer_code</th>\n",
       "      <th>market_code</th>\n",
       "      <th>order_date</th>\n",
       "      <th>sales_qty</th>\n",
       "      <th>sales_amount</th>\n",
       "      <th>currency</th>\n",
       "    </tr>\n",
       "  </thead>\n",
       "  <tbody>\n",
       "    <tr>\n",
       "      <th>5</th>\n",
       "      <td>Prod003</td>\n",
       "      <td>Cus005</td>\n",
       "      <td>Mark004</td>\n",
       "      <td>2017-11-20</td>\n",
       "      <td>59</td>\n",
       "      <td>41448</td>\n",
       "      <td>USD</td>\n",
       "    </tr>\n",
       "    <tr>\n",
       "      <th>6</th>\n",
       "      <td>Prod003</td>\n",
       "      <td>Cus005</td>\n",
       "      <td>Mark004</td>\n",
       "      <td>2017-11-22</td>\n",
       "      <td>36</td>\n",
       "      <td>20724</td>\n",
       "      <td>USD</td>\n",
       "    </tr>\n",
       "    <tr>\n",
       "      <th>286</th>\n",
       "      <td>Prod003</td>\n",
       "      <td>Cus005</td>\n",
       "      <td>Mark004</td>\n",
       "      <td>2017-11-20</td>\n",
       "      <td>59</td>\n",
       "      <td>500</td>\n",
       "      <td>USD_x000D_</td>\n",
       "    </tr>\n",
       "    <tr>\n",
       "      <th>287</th>\n",
       "      <td>Prod003</td>\n",
       "      <td>Cus005</td>\n",
       "      <td>Mark004</td>\n",
       "      <td>2017-11-22</td>\n",
       "      <td>36</td>\n",
       "      <td>250</td>\n",
       "      <td>USD_x000D_</td>\n",
       "    </tr>\n",
       "  </tbody>\n",
       "</table>\n",
       "</div>"
      ],
      "text/plain": [
       "    product_code customer_code market_code order_date  sales_qty  \\\n",
       "5        Prod003        Cus005     Mark004 2017-11-20         59   \n",
       "6        Prod003        Cus005     Mark004 2017-11-22         36   \n",
       "286      Prod003        Cus005     Mark004 2017-11-20         59   \n",
       "287      Prod003        Cus005     Mark004 2017-11-22         36   \n",
       "\n",
       "     sales_amount    currency  \n",
       "5           41448         USD  \n",
       "6           20724         USD  \n",
       "286           500  USD_x000D_  \n",
       "287           250  USD_x000D_  "
      ]
     },
     "execution_count": 52,
     "metadata": {},
     "output_type": "execute_result"
    }
   ],
   "source": [
    "df_trans[(df_trans[\"currency\"] == \"USD\")  | (df_trans[\"currency\"] == \"USD_x000D_\")]"
   ]
  },
  {
   "cell_type": "code",
   "execution_count": 53,
   "id": "6603d332",
   "metadata": {},
   "outputs": [],
   "source": [
    "#converting usd to inr in currency "
   ]
  },
  {
   "cell_type": "code",
   "execution_count": 62,
   "id": "8438ffc8",
   "metadata": {},
   "outputs": [],
   "source": [
    "df_trans.currency.replace({'USD' : 'INR' , 'USD_x000D_' : 'INR'  } , inplace=True)"
   ]
  },
  {
   "cell_type": "code",
   "execution_count": 63,
   "id": "8618c76b",
   "metadata": {},
   "outputs": [
    {
     "data": {
      "text/html": [
       "<div>\n",
       "<style scoped>\n",
       "    .dataframe tbody tr th:only-of-type {\n",
       "        vertical-align: middle;\n",
       "    }\n",
       "\n",
       "    .dataframe tbody tr th {\n",
       "        vertical-align: top;\n",
       "    }\n",
       "\n",
       "    .dataframe thead th {\n",
       "        text-align: right;\n",
       "    }\n",
       "</style>\n",
       "<table border=\"1\" class=\"dataframe\">\n",
       "  <thead>\n",
       "    <tr style=\"text-align: right;\">\n",
       "      <th></th>\n",
       "      <th>product_code</th>\n",
       "      <th>customer_code</th>\n",
       "      <th>market_code</th>\n",
       "      <th>order_date</th>\n",
       "      <th>sales_qty</th>\n",
       "      <th>sales_amount</th>\n",
       "      <th>currency</th>\n",
       "    </tr>\n",
       "  </thead>\n",
       "  <tbody>\n",
       "  </tbody>\n",
       "</table>\n",
       "</div>"
      ],
      "text/plain": [
       "Empty DataFrame\n",
       "Columns: [product_code, customer_code, market_code, order_date, sales_qty, sales_amount, currency]\n",
       "Index: []"
      ]
     },
     "execution_count": 63,
     "metadata": {},
     "output_type": "execute_result"
    }
   ],
   "source": [
    "#all replced\n",
    "df_trans[(df_trans[\"currency\"] == \"USD\")  | (df_trans[\"currency\"] == \"USD_x000D_\")]"
   ]
  },
  {
   "cell_type": "code",
   "execution_count": 64,
   "id": "a2f6c116",
   "metadata": {},
   "outputs": [
    {
     "name": "stderr",
     "output_type": "stream",
     "text": [
      "C:\\Users\\aditya\\AppData\\Local\\Temp/ipykernel_18404/2192986076.py:1: FutureWarning: Treating datetime data as categorical rather than numeric in `.describe` is deprecated and will be removed in a future version of pandas. Specify `datetime_is_numeric=True` to silence this warning and adopt the future behavior now.\n",
      "  df_trans.describe(include='all')\n"
     ]
    },
    {
     "data": {
      "text/html": [
       "<div>\n",
       "<style scoped>\n",
       "    .dataframe tbody tr th:only-of-type {\n",
       "        vertical-align: middle;\n",
       "    }\n",
       "\n",
       "    .dataframe tbody tr th {\n",
       "        vertical-align: top;\n",
       "    }\n",
       "\n",
       "    .dataframe thead th {\n",
       "        text-align: right;\n",
       "    }\n",
       "</style>\n",
       "<table border=\"1\" class=\"dataframe\">\n",
       "  <thead>\n",
       "    <tr style=\"text-align: right;\">\n",
       "      <th></th>\n",
       "      <th>product_code</th>\n",
       "      <th>customer_code</th>\n",
       "      <th>market_code</th>\n",
       "      <th>order_date</th>\n",
       "      <th>sales_qty</th>\n",
       "      <th>sales_amount</th>\n",
       "      <th>currency</th>\n",
       "    </tr>\n",
       "  </thead>\n",
       "  <tbody>\n",
       "    <tr>\n",
       "      <th>count</th>\n",
       "      <td>148672</td>\n",
       "      <td>148672</td>\n",
       "      <td>148672</td>\n",
       "      <td>148672</td>\n",
       "      <td>148672.000000</td>\n",
       "      <td>1.486720e+05</td>\n",
       "      <td>148672</td>\n",
       "    </tr>\n",
       "    <tr>\n",
       "      <th>unique</th>\n",
       "      <td>338</td>\n",
       "      <td>38</td>\n",
       "      <td>15</td>\n",
       "      <td>804</td>\n",
       "      <td>NaN</td>\n",
       "      <td>NaN</td>\n",
       "      <td>1</td>\n",
       "    </tr>\n",
       "    <tr>\n",
       "      <th>top</th>\n",
       "      <td>Prod065</td>\n",
       "      <td>Cus005</td>\n",
       "      <td>Mark011</td>\n",
       "      <td>2018-06-22 00:00:00</td>\n",
       "      <td>NaN</td>\n",
       "      <td>NaN</td>\n",
       "      <td>INR</td>\n",
       "    </tr>\n",
       "    <tr>\n",
       "      <th>freq</th>\n",
       "      <td>3952</td>\n",
       "      <td>19951</td>\n",
       "      <td>47670</td>\n",
       "      <td>376</td>\n",
       "      <td>NaN</td>\n",
       "      <td>NaN</td>\n",
       "      <td>148672</td>\n",
       "    </tr>\n",
       "    <tr>\n",
       "      <th>first</th>\n",
       "      <td>NaN</td>\n",
       "      <td>NaN</td>\n",
       "      <td>NaN</td>\n",
       "      <td>2017-10-04 00:00:00</td>\n",
       "      <td>NaN</td>\n",
       "      <td>NaN</td>\n",
       "      <td>NaN</td>\n",
       "    </tr>\n",
       "    <tr>\n",
       "      <th>last</th>\n",
       "      <td>NaN</td>\n",
       "      <td>NaN</td>\n",
       "      <td>NaN</td>\n",
       "      <td>2020-06-26 00:00:00</td>\n",
       "      <td>NaN</td>\n",
       "      <td>NaN</td>\n",
       "      <td>NaN</td>\n",
       "    </tr>\n",
       "    <tr>\n",
       "      <th>mean</th>\n",
       "      <td>NaN</td>\n",
       "      <td>NaN</td>\n",
       "      <td>NaN</td>\n",
       "      <td>NaN</td>\n",
       "      <td>16.355696</td>\n",
       "      <td>6.636268e+03</td>\n",
       "      <td>NaN</td>\n",
       "    </tr>\n",
       "    <tr>\n",
       "      <th>std</th>\n",
       "      <td>NaN</td>\n",
       "      <td>NaN</td>\n",
       "      <td>NaN</td>\n",
       "      <td>NaN</td>\n",
       "      <td>115.295051</td>\n",
       "      <td>3.007119e+04</td>\n",
       "      <td>NaN</td>\n",
       "    </tr>\n",
       "    <tr>\n",
       "      <th>min</th>\n",
       "      <td>NaN</td>\n",
       "      <td>NaN</td>\n",
       "      <td>NaN</td>\n",
       "      <td>NaN</td>\n",
       "      <td>1.000000</td>\n",
       "      <td>5.000000e+00</td>\n",
       "      <td>NaN</td>\n",
       "    </tr>\n",
       "    <tr>\n",
       "      <th>25%</th>\n",
       "      <td>NaN</td>\n",
       "      <td>NaN</td>\n",
       "      <td>NaN</td>\n",
       "      <td>NaN</td>\n",
       "      <td>1.000000</td>\n",
       "      <td>1.760000e+02</td>\n",
       "      <td>NaN</td>\n",
       "    </tr>\n",
       "    <tr>\n",
       "      <th>50%</th>\n",
       "      <td>NaN</td>\n",
       "      <td>NaN</td>\n",
       "      <td>NaN</td>\n",
       "      <td>NaN</td>\n",
       "      <td>1.000000</td>\n",
       "      <td>5.190000e+02</td>\n",
       "      <td>NaN</td>\n",
       "    </tr>\n",
       "    <tr>\n",
       "      <th>75%</th>\n",
       "      <td>NaN</td>\n",
       "      <td>NaN</td>\n",
       "      <td>NaN</td>\n",
       "      <td>NaN</td>\n",
       "      <td>7.000000</td>\n",
       "      <td>3.065000e+03</td>\n",
       "      <td>NaN</td>\n",
       "    </tr>\n",
       "    <tr>\n",
       "      <th>max</th>\n",
       "      <td>NaN</td>\n",
       "      <td>NaN</td>\n",
       "      <td>NaN</td>\n",
       "      <td>NaN</td>\n",
       "      <td>14049.000000</td>\n",
       "      <td>1.510944e+06</td>\n",
       "      <td>NaN</td>\n",
       "    </tr>\n",
       "  </tbody>\n",
       "</table>\n",
       "</div>"
      ],
      "text/plain": [
       "       product_code customer_code market_code           order_date  \\\n",
       "count        148672        148672      148672               148672   \n",
       "unique          338            38          15                  804   \n",
       "top         Prod065        Cus005     Mark011  2018-06-22 00:00:00   \n",
       "freq           3952         19951       47670                  376   \n",
       "first           NaN           NaN         NaN  2017-10-04 00:00:00   \n",
       "last            NaN           NaN         NaN  2020-06-26 00:00:00   \n",
       "mean            NaN           NaN         NaN                  NaN   \n",
       "std             NaN           NaN         NaN                  NaN   \n",
       "min             NaN           NaN         NaN                  NaN   \n",
       "25%             NaN           NaN         NaN                  NaN   \n",
       "50%             NaN           NaN         NaN                  NaN   \n",
       "75%             NaN           NaN         NaN                  NaN   \n",
       "max             NaN           NaN         NaN                  NaN   \n",
       "\n",
       "            sales_qty  sales_amount currency  \n",
       "count   148672.000000  1.486720e+05   148672  \n",
       "unique            NaN           NaN        1  \n",
       "top               NaN           NaN      INR  \n",
       "freq              NaN           NaN   148672  \n",
       "first             NaN           NaN      NaN  \n",
       "last              NaN           NaN      NaN  \n",
       "mean        16.355696  6.636268e+03      NaN  \n",
       "std        115.295051  3.007119e+04      NaN  \n",
       "min          1.000000  5.000000e+00      NaN  \n",
       "25%          1.000000  1.760000e+02      NaN  \n",
       "50%          1.000000  5.190000e+02      NaN  \n",
       "75%          7.000000  3.065000e+03      NaN  \n",
       "max      14049.000000  1.510944e+06      NaN  "
      ]
     },
     "execution_count": 64,
     "metadata": {},
     "output_type": "execute_result"
    }
   ],
   "source": [
    "df_trans.describe(include='all')"
   ]
  },
  {
   "cell_type": "code",
   "execution_count": 65,
   "id": "3cf204d5",
   "metadata": {},
   "outputs": [],
   "source": [
    "#replacing INR_x00d to INR\n",
    "\n",
    "df_trans.currency.replace({'INR_x000D_' : 'INR' } , inplace=True)"
   ]
  },
  {
   "cell_type": "code",
   "execution_count": 66,
   "id": "9ec8f417",
   "metadata": {},
   "outputs": [
    {
     "name": "stderr",
     "output_type": "stream",
     "text": [
      "C:\\Users\\aditya\\AppData\\Local\\Temp/ipykernel_18404/2192986076.py:1: FutureWarning: Treating datetime data as categorical rather than numeric in `.describe` is deprecated and will be removed in a future version of pandas. Specify `datetime_is_numeric=True` to silence this warning and adopt the future behavior now.\n",
      "  df_trans.describe(include='all')\n"
     ]
    },
    {
     "data": {
      "text/html": [
       "<div>\n",
       "<style scoped>\n",
       "    .dataframe tbody tr th:only-of-type {\n",
       "        vertical-align: middle;\n",
       "    }\n",
       "\n",
       "    .dataframe tbody tr th {\n",
       "        vertical-align: top;\n",
       "    }\n",
       "\n",
       "    .dataframe thead th {\n",
       "        text-align: right;\n",
       "    }\n",
       "</style>\n",
       "<table border=\"1\" class=\"dataframe\">\n",
       "  <thead>\n",
       "    <tr style=\"text-align: right;\">\n",
       "      <th></th>\n",
       "      <th>product_code</th>\n",
       "      <th>customer_code</th>\n",
       "      <th>market_code</th>\n",
       "      <th>order_date</th>\n",
       "      <th>sales_qty</th>\n",
       "      <th>sales_amount</th>\n",
       "      <th>currency</th>\n",
       "    </tr>\n",
       "  </thead>\n",
       "  <tbody>\n",
       "    <tr>\n",
       "      <th>count</th>\n",
       "      <td>148672</td>\n",
       "      <td>148672</td>\n",
       "      <td>148672</td>\n",
       "      <td>148672</td>\n",
       "      <td>148672.000000</td>\n",
       "      <td>1.486720e+05</td>\n",
       "      <td>148672</td>\n",
       "    </tr>\n",
       "    <tr>\n",
       "      <th>unique</th>\n",
       "      <td>338</td>\n",
       "      <td>38</td>\n",
       "      <td>15</td>\n",
       "      <td>804</td>\n",
       "      <td>NaN</td>\n",
       "      <td>NaN</td>\n",
       "      <td>1</td>\n",
       "    </tr>\n",
       "    <tr>\n",
       "      <th>top</th>\n",
       "      <td>Prod065</td>\n",
       "      <td>Cus005</td>\n",
       "      <td>Mark011</td>\n",
       "      <td>2018-06-22 00:00:00</td>\n",
       "      <td>NaN</td>\n",
       "      <td>NaN</td>\n",
       "      <td>INR</td>\n",
       "    </tr>\n",
       "    <tr>\n",
       "      <th>freq</th>\n",
       "      <td>3952</td>\n",
       "      <td>19951</td>\n",
       "      <td>47670</td>\n",
       "      <td>376</td>\n",
       "      <td>NaN</td>\n",
       "      <td>NaN</td>\n",
       "      <td>148672</td>\n",
       "    </tr>\n",
       "    <tr>\n",
       "      <th>first</th>\n",
       "      <td>NaN</td>\n",
       "      <td>NaN</td>\n",
       "      <td>NaN</td>\n",
       "      <td>2017-10-04 00:00:00</td>\n",
       "      <td>NaN</td>\n",
       "      <td>NaN</td>\n",
       "      <td>NaN</td>\n",
       "    </tr>\n",
       "    <tr>\n",
       "      <th>last</th>\n",
       "      <td>NaN</td>\n",
       "      <td>NaN</td>\n",
       "      <td>NaN</td>\n",
       "      <td>2020-06-26 00:00:00</td>\n",
       "      <td>NaN</td>\n",
       "      <td>NaN</td>\n",
       "      <td>NaN</td>\n",
       "    </tr>\n",
       "    <tr>\n",
       "      <th>mean</th>\n",
       "      <td>NaN</td>\n",
       "      <td>NaN</td>\n",
       "      <td>NaN</td>\n",
       "      <td>NaN</td>\n",
       "      <td>16.355696</td>\n",
       "      <td>6.636268e+03</td>\n",
       "      <td>NaN</td>\n",
       "    </tr>\n",
       "    <tr>\n",
       "      <th>std</th>\n",
       "      <td>NaN</td>\n",
       "      <td>NaN</td>\n",
       "      <td>NaN</td>\n",
       "      <td>NaN</td>\n",
       "      <td>115.295051</td>\n",
       "      <td>3.007119e+04</td>\n",
       "      <td>NaN</td>\n",
       "    </tr>\n",
       "    <tr>\n",
       "      <th>min</th>\n",
       "      <td>NaN</td>\n",
       "      <td>NaN</td>\n",
       "      <td>NaN</td>\n",
       "      <td>NaN</td>\n",
       "      <td>1.000000</td>\n",
       "      <td>5.000000e+00</td>\n",
       "      <td>NaN</td>\n",
       "    </tr>\n",
       "    <tr>\n",
       "      <th>25%</th>\n",
       "      <td>NaN</td>\n",
       "      <td>NaN</td>\n",
       "      <td>NaN</td>\n",
       "      <td>NaN</td>\n",
       "      <td>1.000000</td>\n",
       "      <td>1.760000e+02</td>\n",
       "      <td>NaN</td>\n",
       "    </tr>\n",
       "    <tr>\n",
       "      <th>50%</th>\n",
       "      <td>NaN</td>\n",
       "      <td>NaN</td>\n",
       "      <td>NaN</td>\n",
       "      <td>NaN</td>\n",
       "      <td>1.000000</td>\n",
       "      <td>5.190000e+02</td>\n",
       "      <td>NaN</td>\n",
       "    </tr>\n",
       "    <tr>\n",
       "      <th>75%</th>\n",
       "      <td>NaN</td>\n",
       "      <td>NaN</td>\n",
       "      <td>NaN</td>\n",
       "      <td>NaN</td>\n",
       "      <td>7.000000</td>\n",
       "      <td>3.065000e+03</td>\n",
       "      <td>NaN</td>\n",
       "    </tr>\n",
       "    <tr>\n",
       "      <th>max</th>\n",
       "      <td>NaN</td>\n",
       "      <td>NaN</td>\n",
       "      <td>NaN</td>\n",
       "      <td>NaN</td>\n",
       "      <td>14049.000000</td>\n",
       "      <td>1.510944e+06</td>\n",
       "      <td>NaN</td>\n",
       "    </tr>\n",
       "  </tbody>\n",
       "</table>\n",
       "</div>"
      ],
      "text/plain": [
       "       product_code customer_code market_code           order_date  \\\n",
       "count        148672        148672      148672               148672   \n",
       "unique          338            38          15                  804   \n",
       "top         Prod065        Cus005     Mark011  2018-06-22 00:00:00   \n",
       "freq           3952         19951       47670                  376   \n",
       "first           NaN           NaN         NaN  2017-10-04 00:00:00   \n",
       "last            NaN           NaN         NaN  2020-06-26 00:00:00   \n",
       "mean            NaN           NaN         NaN                  NaN   \n",
       "std             NaN           NaN         NaN                  NaN   \n",
       "min             NaN           NaN         NaN                  NaN   \n",
       "25%             NaN           NaN         NaN                  NaN   \n",
       "50%             NaN           NaN         NaN                  NaN   \n",
       "75%             NaN           NaN         NaN                  NaN   \n",
       "max             NaN           NaN         NaN                  NaN   \n",
       "\n",
       "            sales_qty  sales_amount currency  \n",
       "count   148672.000000  1.486720e+05   148672  \n",
       "unique            NaN           NaN        1  \n",
       "top               NaN           NaN      INR  \n",
       "freq              NaN           NaN   148672  \n",
       "first             NaN           NaN      NaN  \n",
       "last              NaN           NaN      NaN  \n",
       "mean        16.355696  6.636268e+03      NaN  \n",
       "std        115.295051  3.007119e+04      NaN  \n",
       "min          1.000000  5.000000e+00      NaN  \n",
       "25%          1.000000  1.760000e+02      NaN  \n",
       "50%          1.000000  5.190000e+02      NaN  \n",
       "75%          7.000000  3.065000e+03      NaN  \n",
       "max      14049.000000  1.510944e+06      NaN  "
      ]
     },
     "execution_count": 66,
     "metadata": {},
     "output_type": "execute_result"
    }
   ],
   "source": [
    "df_trans.describe(include='all')"
   ]
  },
  {
   "cell_type": "code",
   "execution_count": 67,
   "id": "d37d4087",
   "metadata": {},
   "outputs": [
    {
     "data": {
      "text/plain": [
       "array(['INR'], dtype=object)"
      ]
     },
     "execution_count": 67,
     "metadata": {},
     "output_type": "execute_result"
    }
   ],
   "source": [
    "df_trans.currency.unique()"
   ]
  },
  {
   "cell_type": "code",
   "execution_count": 68,
   "id": "42ecc644",
   "metadata": {},
   "outputs": [],
   "source": [
    "#exporting to excel\n",
    "df_trans.to_excel (\"transcation_updated.xlsx\")"
   ]
  },
  {
   "cell_type": "code",
   "execution_count": 69,
   "id": "01683893",
   "metadata": {},
   "outputs": [],
   "source": [
    "#productss analysis "
   ]
  },
  {
   "cell_type": "code",
   "execution_count": 70,
   "id": "b1dc202d",
   "metadata": {},
   "outputs": [
    {
     "data": {
      "text/html": [
       "<div>\n",
       "<style scoped>\n",
       "    .dataframe tbody tr th:only-of-type {\n",
       "        vertical-align: middle;\n",
       "    }\n",
       "\n",
       "    .dataframe tbody tr th {\n",
       "        vertical-align: top;\n",
       "    }\n",
       "\n",
       "    .dataframe thead th {\n",
       "        text-align: right;\n",
       "    }\n",
       "</style>\n",
       "<table border=\"1\" class=\"dataframe\">\n",
       "  <thead>\n",
       "    <tr style=\"text-align: right;\">\n",
       "      <th></th>\n",
       "      <th>product_code</th>\n",
       "      <th>product_type</th>\n",
       "    </tr>\n",
       "  </thead>\n",
       "  <tbody>\n",
       "    <tr>\n",
       "      <th>0</th>\n",
       "      <td>Prod001</td>\n",
       "      <td>Own Brand_x000D_</td>\n",
       "    </tr>\n",
       "    <tr>\n",
       "      <th>1</th>\n",
       "      <td>Prod002</td>\n",
       "      <td>Own Brand_x000D_</td>\n",
       "    </tr>\n",
       "    <tr>\n",
       "      <th>2</th>\n",
       "      <td>Prod003</td>\n",
       "      <td>Own Brand_x000D_</td>\n",
       "    </tr>\n",
       "    <tr>\n",
       "      <th>3</th>\n",
       "      <td>Prod004</td>\n",
       "      <td>Own Brand_x000D_</td>\n",
       "    </tr>\n",
       "    <tr>\n",
       "      <th>4</th>\n",
       "      <td>Prod005</td>\n",
       "      <td>Own Brand_x000D_</td>\n",
       "    </tr>\n",
       "  </tbody>\n",
       "</table>\n",
       "</div>"
      ],
      "text/plain": [
       "  product_code      product_type\n",
       "0      Prod001  Own Brand_x000D_\n",
       "1      Prod002  Own Brand_x000D_\n",
       "2      Prod003  Own Brand_x000D_\n",
       "3      Prod004  Own Brand_x000D_\n",
       "4      Prod005  Own Brand_x000D_"
      ]
     },
     "execution_count": 70,
     "metadata": {},
     "output_type": "execute_result"
    }
   ],
   "source": [
    "df_prod.head()"
   ]
  },
  {
   "cell_type": "code",
   "execution_count": 71,
   "id": "647d4874",
   "metadata": {},
   "outputs": [
    {
     "data": {
      "text/plain": [
       "product_code    0\n",
       "product_type    0\n",
       "dtype: int64"
      ]
     },
     "execution_count": 71,
     "metadata": {},
     "output_type": "execute_result"
    }
   ],
   "source": [
    "#null values \n",
    "df_prod.isnull().sum()"
   ]
  },
  {
   "cell_type": "code",
   "execution_count": 72,
   "id": "d5a617ce",
   "metadata": {},
   "outputs": [
    {
     "name": "stderr",
     "output_type": "stream",
     "text": [
      "C:\\Users\\aditya\\anaconda3\\lib\\site-packages\\seaborn\\_decorators.py:36: FutureWarning: Pass the following variable as a keyword arg: x. From version 0.12, the only valid positional argument will be `data`, and passing other arguments without an explicit keyword will result in an error or misinterpretation.\n",
      "  warnings.warn(\n"
     ]
    },
    {
     "data": {
      "text/plain": [
       "Own Brand_x000D_       191\n",
       "Distribution_x000D_     88\n",
       "Name: product_type, dtype: int64"
      ]
     },
     "execution_count": 72,
     "metadata": {},
     "output_type": "execute_result"
    },
    {
     "data": {
      "image/png": "[encoded data removed]",
      "text/plain": [
       "<Figure size 432x288 with 1 Axes>"
      ]
     },
     "metadata": {
      "needs_background": "light"
     },
     "output_type": "display_data"
    }
   ],
   "source": [
    "#total number of  product type\n",
    "sns.countplot(df_prod.product_type)\n",
    "pd.value_counts(df_prod.product_type)"
   ]
  },
  {
   "cell_type": "code",
   "execution_count": 73,
   "id": "80df12e6",
   "metadata": {},
   "outputs": [],
   "source": [
    "#markets analysis "
   ]
  },
  {
   "cell_type": "code",
   "execution_count": 74,
   "id": "bf36369c",
   "metadata": {},
   "outputs": [
    {
     "data": {
      "text/html": [
       "<div>\n",
       "<style scoped>\n",
       "    .dataframe tbody tr th:only-of-type {\n",
       "        vertical-align: middle;\n",
       "    }\n",
       "\n",
       "    .dataframe tbody tr th {\n",
       "        vertical-align: top;\n",
       "    }\n",
       "\n",
       "    .dataframe thead th {\n",
       "        text-align: right;\n",
       "    }\n",
       "</style>\n",
       "<table border=\"1\" class=\"dataframe\">\n",
       "  <thead>\n",
       "    <tr style=\"text-align: right;\">\n",
       "      <th></th>\n",
       "      <th>markets_code</th>\n",
       "      <th>markets_name</th>\n",
       "      <th>zone</th>\n",
       "    </tr>\n",
       "  </thead>\n",
       "  <tbody>\n",
       "    <tr>\n",
       "      <th>0</th>\n",
       "      <td>Mark001</td>\n",
       "      <td>Chennai</td>\n",
       "      <td>South</td>\n",
       "    </tr>\n",
       "    <tr>\n",
       "      <th>1</th>\n",
       "      <td>Mark002</td>\n",
       "      <td>Mumbai</td>\n",
       "      <td>Central</td>\n",
       "    </tr>\n",
       "    <tr>\n",
       "      <th>2</th>\n",
       "      <td>Mark003</td>\n",
       "      <td>Ahmedabad</td>\n",
       "      <td>North</td>\n",
       "    </tr>\n",
       "    <tr>\n",
       "      <th>3</th>\n",
       "      <td>Mark004</td>\n",
       "      <td>Delhi NCR</td>\n",
       "      <td>North</td>\n",
       "    </tr>\n",
       "    <tr>\n",
       "      <th>4</th>\n",
       "      <td>Mark005</td>\n",
       "      <td>Kanpur</td>\n",
       "      <td>North</td>\n",
       "    </tr>\n",
       "  </tbody>\n",
       "</table>\n",
       "</div>"
      ],
      "text/plain": [
       "  markets_code markets_name     zone\n",
       "0      Mark001      Chennai    South\n",
       "1      Mark002       Mumbai  Central\n",
       "2      Mark003    Ahmedabad    North\n",
       "3      Mark004    Delhi NCR    North\n",
       "4      Mark005       Kanpur    North"
      ]
     },
     "execution_count": 74,
     "metadata": {},
     "output_type": "execute_result"
    }
   ],
   "source": [
    "df_markets.head()"
   ]
  },
  {
   "cell_type": "code",
   "execution_count": 75,
   "id": "1b1b6f8c",
   "metadata": {},
   "outputs": [
    {
     "data": {
      "text/plain": [
       "markets_code    0\n",
       "markets_name    0\n",
       "zone            2\n",
       "dtype: int64"
      ]
     },
     "execution_count": 75,
     "metadata": {},
     "output_type": "execute_result"
    }
   ],
   "source": [
    "#null values \n",
    "df_markets.isnull().sum()"
   ]
  },
  {
   "cell_type": "code",
   "execution_count": 76,
   "id": "10c9f043",
   "metadata": {},
   "outputs": [
    {
     "data": {
      "text/plain": [
       "0       South\n",
       "1     Central\n",
       "2       North\n",
       "3       North\n",
       "4       North\n",
       "5       South\n",
       "6     Central\n",
       "7       North\n",
       "8       North\n",
       "9       South\n",
       "10    Central\n",
       "11      North\n",
       "12    Central\n",
       "13      South\n",
       "14      South\n",
       "15        NaN\n",
       "16        NaN\n",
       "Name: zone, dtype: object"
      ]
     },
     "execution_count": 76,
     "metadata": {},
     "output_type": "execute_result"
    }
   ],
   "source": [
    "df_markets.zone"
   ]
  },
  {
   "cell_type": "code",
   "execution_count": 77,
   "id": "d48f9a2e",
   "metadata": {},
   "outputs": [
    {
     "data": {
      "text/html": [
       "<div>\n",
       "<style scoped>\n",
       "    .dataframe tbody tr th:only-of-type {\n",
       "        vertical-align: middle;\n",
       "    }\n",
       "\n",
       "    .dataframe tbody tr th {\n",
       "        vertical-align: top;\n",
       "    }\n",
       "\n",
       "    .dataframe thead th {\n",
       "        text-align: right;\n",
       "    }\n",
       "</style>\n",
       "<table border=\"1\" class=\"dataframe\">\n",
       "  <thead>\n",
       "    <tr style=\"text-align: right;\">\n",
       "      <th></th>\n",
       "      <th>markets_code</th>\n",
       "      <th>markets_name</th>\n",
       "      <th>zone</th>\n",
       "    </tr>\n",
       "  </thead>\n",
       "  <tbody>\n",
       "    <tr>\n",
       "      <th>12</th>\n",
       "      <td>Mark013</td>\n",
       "      <td>Bhopal</td>\n",
       "      <td>Central</td>\n",
       "    </tr>\n",
       "    <tr>\n",
       "      <th>13</th>\n",
       "      <td>Mark014</td>\n",
       "      <td>Hyderabad</td>\n",
       "      <td>South</td>\n",
       "    </tr>\n",
       "    <tr>\n",
       "      <th>14</th>\n",
       "      <td>Mark015</td>\n",
       "      <td>Bhubaneshwar</td>\n",
       "      <td>South</td>\n",
       "    </tr>\n",
       "    <tr>\n",
       "      <th>15</th>\n",
       "      <td>Mark097</td>\n",
       "      <td>New York</td>\n",
       "      <td>NaN</td>\n",
       "    </tr>\n",
       "    <tr>\n",
       "      <th>16</th>\n",
       "      <td>Mark999</td>\n",
       "      <td>Paris</td>\n",
       "      <td>NaN</td>\n",
       "    </tr>\n",
       "  </tbody>\n",
       "</table>\n",
       "</div>"
      ],
      "text/plain": [
       "   markets_code  markets_name     zone\n",
       "12      Mark013        Bhopal  Central\n",
       "13      Mark014     Hyderabad    South\n",
       "14      Mark015  Bhubaneshwar    South\n",
       "15      Mark097      New York      NaN\n",
       "16      Mark999         Paris      NaN"
      ]
     },
     "execution_count": 77,
     "metadata": {},
     "output_type": "execute_result"
    }
   ],
   "source": [
    "df_markets.tail()"
   ]
  },
  {
   "cell_type": "code",
   "execution_count": 78,
   "id": "c577fe3e",
   "metadata": {},
   "outputs": [],
   "source": [
    "df_markets = df_markets[:-2]"
   ]
  },
  {
   "cell_type": "code",
   "execution_count": 79,
   "id": "a67c7f42",
   "metadata": {},
   "outputs": [
    {
     "data": {
      "text/plain": [
       "markets_code    0\n",
       "markets_name    0\n",
       "zone            0\n",
       "dtype: int64"
      ]
     },
     "execution_count": 79,
     "metadata": {},
     "output_type": "execute_result"
    }
   ],
   "source": [
    "df_markets.isnull().sum()"
   ]
  },
  {
   "cell_type": "code",
   "execution_count": 80,
   "id": "1f42a020",
   "metadata": {},
   "outputs": [
    {
     "name": "stderr",
     "output_type": "stream",
     "text": [
      "C:\\Users\\aditya\\anaconda3\\lib\\site-packages\\seaborn\\_decorators.py:36: FutureWarning: Pass the following variable as a keyword arg: x. From version 0.12, the only valid positional argument will be `data`, and passing other arguments without an explicit keyword will result in an error or misinterpretation.\n",
      "  warnings.warn(\n"
     ]
    },
    {
     "data": {
      "text/plain": [
       "North      6\n",
       "South      5\n",
       "Central    4\n",
       "Name: zone, dtype: int64"
      ]
     },
     "execution_count": 80,
     "metadata": {},
     "output_type": "execute_result"
    },
    {
     "data": {
      "image/png": "[encoded data removed]",
      "text/plain": [
       "<Figure size 432x288 with 1 Axes>"
      ]
     },
     "metadata": {
      "needs_background": "light"
     },
     "output_type": "display_data"
    }
   ],
   "source": [
    "#total number of  zone \n",
    "sns.countplot(df_markets.zone)\n",
    "pd.value_counts(df_markets.zone)"
   ]
  },
  {
   "cell_type": "code",
   "execution_count": 81,
   "id": "b5d2fb8f",
   "metadata": {},
   "outputs": [
    {
     "data": {
      "text/plain": [
       "Bhopal          2\n",
       "Chennai         1\n",
       "Mumbai          1\n",
       "Ahmedabad       1\n",
       "Delhi NCR       1\n",
       "Kanpur          1\n",
       "Bengaluru       1\n",
       "Lucknow         1\n",
       "Patna           1\n",
       "Kochi           1\n",
       "Nagpur          1\n",
       "Surat           1\n",
       "Hyderabad       1\n",
       "Bhubaneshwar    1\n",
       "Name: markets_name, dtype: int64"
      ]
     },
     "execution_count": 81,
     "metadata": {},
     "output_type": "execute_result"
    }
   ],
   "source": [
    "#total number of  markets name\n",
    "\n",
    "pd.value_counts(df_markets.markets_name)"
   ]
  },
  {
   "cell_type": "code",
   "execution_count": 82,
   "id": "e757b69f",
   "metadata": {},
   "outputs": [],
   "source": [
    "#exporting to excel\n",
    "df_markets.to_excel (\"markets_updated.xlsx\")"
   ]
  },
  {
   "cell_type": "code",
   "execution_count": 83,
   "id": "1cd70960",
   "metadata": {},
   "outputs": [],
   "source": [
    "#data analysis "
   ]
  },
  {
   "cell_type": "code",
   "execution_count": 84,
   "id": "b71ebdea",
   "metadata": {},
   "outputs": [
    {
     "data": {
      "text/html": [
       "<div>\n",
       "<style scoped>\n",
       "    .dataframe tbody tr th:only-of-type {\n",
       "        vertical-align: middle;\n",
       "    }\n",
       "\n",
       "    .dataframe tbody tr th {\n",
       "        vertical-align: top;\n",
       "    }\n",
       "\n",
       "    .dataframe thead th {\n",
       "        text-align: right;\n",
       "    }\n",
       "</style>\n",
       "<table border=\"1\" class=\"dataframe\">\n",
       "  <thead>\n",
       "    <tr style=\"text-align: right;\">\n",
       "      <th></th>\n",
       "      <th>date</th>\n",
       "      <th>cy_date</th>\n",
       "      <th>year</th>\n",
       "      <th>month_name</th>\n",
       "      <th>date_yy_mmm</th>\n",
       "    </tr>\n",
       "  </thead>\n",
       "  <tbody>\n",
       "    <tr>\n",
       "      <th>0</th>\n",
       "      <td>2017-06-01</td>\n",
       "      <td>2017-06-01</td>\n",
       "      <td>2017</td>\n",
       "      <td>June</td>\n",
       "      <td>17-Jun_x000D_</td>\n",
       "    </tr>\n",
       "    <tr>\n",
       "      <th>1</th>\n",
       "      <td>2017-06-02</td>\n",
       "      <td>2017-06-01</td>\n",
       "      <td>2017</td>\n",
       "      <td>June</td>\n",
       "      <td>17-Jun_x000D_</td>\n",
       "    </tr>\n",
       "    <tr>\n",
       "      <th>2</th>\n",
       "      <td>2017-06-03</td>\n",
       "      <td>2017-06-01</td>\n",
       "      <td>2017</td>\n",
       "      <td>June</td>\n",
       "      <td>17-Jun_x000D_</td>\n",
       "    </tr>\n",
       "    <tr>\n",
       "      <th>3</th>\n",
       "      <td>2017-06-04</td>\n",
       "      <td>2017-06-01</td>\n",
       "      <td>2017</td>\n",
       "      <td>June</td>\n",
       "      <td>17-Jun_x000D_</td>\n",
       "    </tr>\n",
       "    <tr>\n",
       "      <th>4</th>\n",
       "      <td>2017-06-05</td>\n",
       "      <td>2017-06-01</td>\n",
       "      <td>2017</td>\n",
       "      <td>June</td>\n",
       "      <td>17-Jun_x000D_</td>\n",
       "    </tr>\n",
       "  </tbody>\n",
       "</table>\n",
       "</div>"
      ],
      "text/plain": [
       "        date    cy_date  year month_name    date_yy_mmm\n",
       "0 2017-06-01 2017-06-01  2017       June  17-Jun_x000D_\n",
       "1 2017-06-02 2017-06-01  2017       June  17-Jun_x000D_\n",
       "2 2017-06-03 2017-06-01  2017       June  17-Jun_x000D_\n",
       "3 2017-06-04 2017-06-01  2017       June  17-Jun_x000D_\n",
       "4 2017-06-05 2017-06-01  2017       June  17-Jun_x000D_"
      ]
     },
     "execution_count": 84,
     "metadata": {},
     "output_type": "execute_result"
    }
   ],
   "source": [
    "df_date.head()"
   ]
  },
  {
   "cell_type": "code",
   "execution_count": 85,
   "id": "762eb868",
   "metadata": {},
   "outputs": [
    {
     "data": {
      "text/plain": [
       "date           0\n",
       "cy_date        0\n",
       "year           0\n",
       "month_name     0\n",
       "date_yy_mmm    0\n",
       "dtype: int64"
      ]
     },
     "execution_count": 85,
     "metadata": {},
     "output_type": "execute_result"
    }
   ],
   "source": [
    "#null values \n",
    "df_date.isnull().sum()"
   ]
  },
  {
   "cell_type": "code",
   "execution_count": 86,
   "id": "12faa87c",
   "metadata": {},
   "outputs": [
    {
     "name": "stderr",
     "output_type": "stream",
     "text": [
      "C:\\Users\\aditya\\anaconda3\\lib\\site-packages\\seaborn\\_decorators.py:36: FutureWarning: Pass the following variable as a keyword arg: x. From version 0.12, the only valid positional argument will be `data`, and passing other arguments without an explicit keyword will result in an error or misinterpretation.\n",
      "  warnings.warn(\n"
     ]
    },
    {
     "data": {
      "text/plain": [
       "2018    365\n",
       "2019    365\n",
       "2017    214\n",
       "2020    182\n",
       "Name: year, dtype: int64"
      ]
     },
     "execution_count": 86,
     "metadata": {},
     "output_type": "execute_result"
    },
    {
     "data": {
      "image/png": "[encoded data removed]",
      "text/plain": [
       "<Figure size 432x288 with 1 Axes>"
      ]
     },
     "metadata": {
      "needs_background": "light"
     },
     "output_type": "display_data"
    }
   ],
   "source": [
    "#total number of  years \n",
    "sns.countplot(df_date.year)\n",
    "pd.value_counts(df_date.year)"
   ]
  },
  {
   "cell_type": "code",
   "execution_count": 87,
   "id": "e0b90ce0",
   "metadata": {},
   "outputs": [],
   "source": [
    "#customer data analysis "
   ]
  },
  {
   "cell_type": "code",
   "execution_count": 88,
   "id": "b0810865",
   "metadata": {},
   "outputs": [
    {
     "data": {
      "text/html": [
       "<div>\n",
       "<style scoped>\n",
       "    .dataframe tbody tr th:only-of-type {\n",
       "        vertical-align: middle;\n",
       "    }\n",
       "\n",
       "    .dataframe tbody tr th {\n",
       "        vertical-align: top;\n",
       "    }\n",
       "\n",
       "    .dataframe thead th {\n",
       "        text-align: right;\n",
       "    }\n",
       "</style>\n",
       "<table border=\"1\" class=\"dataframe\">\n",
       "  <thead>\n",
       "    <tr style=\"text-align: right;\">\n",
       "      <th></th>\n",
       "      <th>customer_code</th>\n",
       "      <th>custmer_name</th>\n",
       "      <th>customer_type</th>\n",
       "    </tr>\n",
       "  </thead>\n",
       "  <tbody>\n",
       "    <tr>\n",
       "      <th>0</th>\n",
       "      <td>Cus001</td>\n",
       "      <td>Surge Stores</td>\n",
       "      <td>Brick &amp; Mortar</td>\n",
       "    </tr>\n",
       "    <tr>\n",
       "      <th>1</th>\n",
       "      <td>Cus002</td>\n",
       "      <td>Nomad Stores</td>\n",
       "      <td>Brick &amp; Mortar</td>\n",
       "    </tr>\n",
       "    <tr>\n",
       "      <th>2</th>\n",
       "      <td>Cus003</td>\n",
       "      <td>Excel Stores</td>\n",
       "      <td>Brick &amp; Mortar</td>\n",
       "    </tr>\n",
       "    <tr>\n",
       "      <th>3</th>\n",
       "      <td>Cus004</td>\n",
       "      <td>Surface Stores</td>\n",
       "      <td>Brick &amp; Mortar</td>\n",
       "    </tr>\n",
       "    <tr>\n",
       "      <th>4</th>\n",
       "      <td>Cus005</td>\n",
       "      <td>Premium Stores</td>\n",
       "      <td>Brick &amp; Mortar</td>\n",
       "    </tr>\n",
       "  </tbody>\n",
       "</table>\n",
       "</div>"
      ],
      "text/plain": [
       "  customer_code    custmer_name   customer_type\n",
       "0        Cus001    Surge Stores  Brick & Mortar\n",
       "1        Cus002    Nomad Stores  Brick & Mortar\n",
       "2        Cus003    Excel Stores  Brick & Mortar\n",
       "3        Cus004  Surface Stores  Brick & Mortar\n",
       "4        Cus005  Premium Stores  Brick & Mortar"
      ]
     },
     "execution_count": 88,
     "metadata": {},
     "output_type": "execute_result"
    }
   ],
   "source": [
    "df_customer.head() "
   ]
  },
  {
   "cell_type": "code",
   "execution_count": 89,
   "id": "0f7213a3",
   "metadata": {},
   "outputs": [
    {
     "data": {
      "text/plain": [
       "customer_code    0\n",
       "custmer_name     0\n",
       "customer_type    0\n",
       "dtype: int64"
      ]
     },
     "execution_count": 89,
     "metadata": {},
     "output_type": "execute_result"
    }
   ],
   "source": [
    "#null values \n",
    "df_customer.isnull().sum()"
   ]
  },
  {
   "cell_type": "code",
   "execution_count": 90,
   "id": "20bb47c3",
   "metadata": {},
   "outputs": [
    {
     "name": "stderr",
     "output_type": "stream",
     "text": [
      "C:\\Users\\aditya\\anaconda3\\lib\\site-packages\\seaborn\\_decorators.py:36: FutureWarning: Pass the following variable as a keyword arg: x. From version 0.12, the only valid positional argument will be `data`, and passing other arguments without an explicit keyword will result in an error or misinterpretation.\n",
      "  warnings.warn(\n"
     ]
    },
    {
     "data": {
      "text/plain": [
       "<AxesSubplot:xlabel='customer_type', ylabel='count'>"
      ]
     },
     "execution_count": 90,
     "metadata": {},
     "output_type": "execute_result"
    },
    {
     "data": {
      "image/png": "[encoded data removed]",
      "text/plain": [
       "<Figure size 432x288 with 1 Axes>"
      ]
     },
     "metadata": {
      "needs_background": "light"
     },
     "output_type": "display_data"
    }
   ],
   "source": [
    "#no of  different cusomter types \n",
    "\n",
    "sns.countplot(df_customer.customer_type)"
   ]
  },
  {
   "cell_type": "code",
   "execution_count": 91,
   "id": "c09f69fa",
   "metadata": {},
   "outputs": [
    {
     "data": {
      "text/plain": [
       "38"
      ]
     },
     "execution_count": 91,
     "metadata": {},
     "output_type": "execute_result"
    }
   ],
   "source": [
    "#total number of  different cusomter  \n",
    "pd.value_counts(df_customer.customer_code).sum()"
   ]
  },
  {
   "cell_type": "code",
   "execution_count": null,
   "id": "89f1eece",
   "metadata": {},
   "outputs": [],
   "source": []
  },
  {
   "cell_type": "code",
   "execution_count": null,
   "id": "b32c488b",
   "metadata": {},
   "outputs": [],
   "source": []
  }
 ],
 "metadata": {
  "kernelspec": {
   "display_name": "Python 3 (ipykernel)",
   "language": "python",
   "name": "python3"
  },
  "language_info": {
   "codemirror_mode": {
    "name": "ipython",
    "version": 3
   },
   "file_extension": ".py",
   "mimetype": "text/x-python",
   "name": "python",
   "nbconvert_exporter": "python",
   "pygments_lexer": "ipython3",
   "version": "3.9.7"
  }
 },
 "nbformat": 4,
 "nbformat_minor": 5
}
