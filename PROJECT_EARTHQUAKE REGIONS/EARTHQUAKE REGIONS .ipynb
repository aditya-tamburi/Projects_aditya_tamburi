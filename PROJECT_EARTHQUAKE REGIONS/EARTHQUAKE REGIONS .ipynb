{
 "cells": [
  {
   "cell_type": "code",
   "execution_count": 9,
   "metadata": {
    "id": "6UqUWA2nYBMt"
   },
   "outputs": [],
   "source": [
    "import numpy as np\n",
    "import pandas as pd\n",
    "import matplotlib.pyplot as plt\n",
    "import seaborn as sns\n",
    "from sklearn.cluster import KMeans"
   ]
  },
  {
   "cell_type": "code",
   "execution_count": 10,
   "metadata": {
    "colab": {
     "base_uri": "https://localhost:8080/",
     "height": 206
    },
    "id": "XkzXveNvYBMx",
    "outputId": "d89d60e8-3267-4aab-f317-e58ef40a29a4"
   },
   "outputs": [
    {
     "data": {
      "text/html": [
       "<div>\n",
       "<style scoped>\n",
       "    .dataframe tbody tr th:only-of-type {\n",
       "        vertical-align: middle;\n",
       "    }\n",
       "\n",
       "    .dataframe tbody tr th {\n",
       "        vertical-align: top;\n",
       "    }\n",
       "\n",
       "    .dataframe thead th {\n",
       "        text-align: right;\n",
       "    }\n",
       "</style>\n",
       "<table border=\"1\" class=\"dataframe\">\n",
       "  <thead>\n",
       "    <tr style=\"text-align: right;\">\n",
       "      <th></th>\n",
       "      <th>Latitude</th>\n",
       "      <th>Longitude</th>\n",
       "      <th>DepthMeters</th>\n",
       "      <th>Magnitude</th>\n",
       "    </tr>\n",
       "  </thead>\n",
       "  <tbody>\n",
       "    <tr>\n",
       "      <th>0</th>\n",
       "      <td>39.644</td>\n",
       "      <td>-75.483</td>\n",
       "      <td>5000</td>\n",
       "      <td>2.8</td>\n",
       "    </tr>\n",
       "    <tr>\n",
       "      <th>1</th>\n",
       "      <td>37.379</td>\n",
       "      <td>-80.746</td>\n",
       "      <td>11500</td>\n",
       "      <td>2.8</td>\n",
       "    </tr>\n",
       "    <tr>\n",
       "      <th>2</th>\n",
       "      <td>45.296</td>\n",
       "      <td>-73.475</td>\n",
       "      <td>18000</td>\n",
       "      <td>2.1</td>\n",
       "    </tr>\n",
       "    <tr>\n",
       "      <th>3</th>\n",
       "      <td>42.825</td>\n",
       "      <td>-78.239</td>\n",
       "      <td>5000</td>\n",
       "      <td>2.4</td>\n",
       "    </tr>\n",
       "    <tr>\n",
       "      <th>4</th>\n",
       "      <td>38.619</td>\n",
       "      <td>-80.909</td>\n",
       "      <td>100</td>\n",
       "      <td>3.4</td>\n",
       "    </tr>\n",
       "  </tbody>\n",
       "</table>\n",
       "</div>"
      ],
      "text/plain": [
       "   Latitude  Longitude  DepthMeters  Magnitude\n",
       "0    39.644    -75.483         5000        2.8\n",
       "1    37.379    -80.746        11500        2.8\n",
       "2    45.296    -73.475        18000        2.1\n",
       "3    42.825    -78.239         5000        2.4\n",
       "4    38.619    -80.909          100        3.4"
      ]
     },
     "execution_count": 10,
     "metadata": {},
     "output_type": "execute_result"
    }
   ],
   "source": [
    "df= pd.read_csv('Earthquake_Data.csv')\n",
    "df.head()"
   ]
  },
  {
   "cell_type": "code",
   "execution_count": 11,
   "metadata": {
    "colab": {
     "base_uri": "https://localhost:8080/"
    },
    "id": "SBz3ggCyYBM2",
    "outputId": "0241947d-daeb-4508-f2f6-c338ab47e092"
   },
   "outputs": [
    {
     "data": {
      "text/plain": [
       "(1647, 4)"
      ]
     },
     "execution_count": 11,
     "metadata": {},
     "output_type": "execute_result"
    }
   ],
   "source": [
    "\n",
    "df.shape\n"
   ]
  },
  {
   "cell_type": "code",
   "execution_count": 12,
   "metadata": {
    "colab": {
     "base_uri": "https://localhost:8080/"
    },
    "id": "iUD_PyBuYBM4",
    "outputId": "9d8024af-0d65-48be-f880-84689971448f"
   },
   "outputs": [
    {
     "name": "stdout",
     "output_type": "stream",
     "text": [
      "<class 'pandas.core.frame.DataFrame'>\n",
      "RangeIndex: 1647 entries, 0 to 1646\n",
      "Data columns (total 4 columns):\n",
      " #   Column       Non-Null Count  Dtype  \n",
      "---  ------       --------------  -----  \n",
      " 0   Latitude     1647 non-null   float64\n",
      " 1   Longitude    1647 non-null   float64\n",
      " 2   DepthMeters  1647 non-null   int64  \n",
      " 3   Magnitude    1647 non-null   float64\n",
      "dtypes: float64(3), int64(1)\n",
      "memory usage: 51.6 KB\n"
     ]
    }
   ],
   "source": [
    "df.info()"
   ]
  },
  {
   "cell_type": "code",
   "execution_count": 13,
   "metadata": {
    "colab": {
     "base_uri": "https://localhost:8080/"
    },
    "id": "59-kqeiLYBM7",
    "outputId": "f59ace90-3a7b-4b8f-f24f-c084f1a4e6d1"
   },
   "outputs": [
    {
     "data": {
      "text/plain": [
       "Latitude       0\n",
       "Longitude      0\n",
       "DepthMeters    0\n",
       "Magnitude      0\n",
       "dtype: int64"
      ]
     },
     "execution_count": 13,
     "metadata": {},
     "output_type": "execute_result"
    }
   ],
   "source": [
    "df.isnull().sum()"
   ]
  },
  {
   "cell_type": "code",
   "execution_count": 14,
   "metadata": {
    "colab": {
     "base_uri": "https://localhost:8080/",
     "height": 300
    },
    "id": "SMHs5ZrgYBM-",
    "outputId": "8665099d-5b77-49ae-aac0-df80ca884bfa"
   },
   "outputs": [
    {
     "data": {
      "text/html": [
       "<div>\n",
       "<style scoped>\n",
       "    .dataframe tbody tr th:only-of-type {\n",
       "        vertical-align: middle;\n",
       "    }\n",
       "\n",
       "    .dataframe tbody tr th {\n",
       "        vertical-align: top;\n",
       "    }\n",
       "\n",
       "    .dataframe thead th {\n",
       "        text-align: right;\n",
       "    }\n",
       "</style>\n",
       "<table border=\"1\" class=\"dataframe\">\n",
       "  <thead>\n",
       "    <tr style=\"text-align: right;\">\n",
       "      <th></th>\n",
       "      <th>Latitude</th>\n",
       "      <th>Longitude</th>\n",
       "      <th>DepthMeters</th>\n",
       "      <th>Magnitude</th>\n",
       "    </tr>\n",
       "  </thead>\n",
       "  <tbody>\n",
       "    <tr>\n",
       "      <th>count</th>\n",
       "      <td>1647.000000</td>\n",
       "      <td>1647.000000</td>\n",
       "      <td>1647.000000</td>\n",
       "      <td>1647.000000</td>\n",
       "    </tr>\n",
       "    <tr>\n",
       "      <th>mean</th>\n",
       "      <td>39.903436</td>\n",
       "      <td>-79.008111</td>\n",
       "      <td>7559.720704</td>\n",
       "      <td>2.384827</td>\n",
       "    </tr>\n",
       "    <tr>\n",
       "      <th>std</th>\n",
       "      <td>2.410973</td>\n",
       "      <td>3.192442</td>\n",
       "      <td>5205.963953</td>\n",
       "      <td>0.459781</td>\n",
       "    </tr>\n",
       "    <tr>\n",
       "      <th>min</th>\n",
       "      <td>37.007700</td>\n",
       "      <td>-82.881000</td>\n",
       "      <td>100.000000</td>\n",
       "      <td>0.200000</td>\n",
       "    </tr>\n",
       "    <tr>\n",
       "      <th>25%</th>\n",
       "      <td>37.902400</td>\n",
       "      <td>-81.694150</td>\n",
       "      <td>3450.000000</td>\n",
       "      <td>2.100000</td>\n",
       "    </tr>\n",
       "    <tr>\n",
       "      <th>50%</th>\n",
       "      <td>38.477800</td>\n",
       "      <td>-80.831400</td>\n",
       "      <td>6400.000000</td>\n",
       "      <td>2.400000</td>\n",
       "    </tr>\n",
       "    <tr>\n",
       "      <th>75%</th>\n",
       "      <td>41.467200</td>\n",
       "      <td>-75.934050</td>\n",
       "      <td>11500.000000</td>\n",
       "      <td>2.600000</td>\n",
       "    </tr>\n",
       "    <tr>\n",
       "      <th>max</th>\n",
       "      <td>45.300900</td>\n",
       "      <td>-73.063400</td>\n",
       "      <td>32300.000000</td>\n",
       "      <td>5.200000</td>\n",
       "    </tr>\n",
       "  </tbody>\n",
       "</table>\n",
       "</div>"
      ],
      "text/plain": [
       "          Latitude    Longitude   DepthMeters    Magnitude\n",
       "count  1647.000000  1647.000000   1647.000000  1647.000000\n",
       "mean     39.903436   -79.008111   7559.720704     2.384827\n",
       "std       2.410973     3.192442   5205.963953     0.459781\n",
       "min      37.007700   -82.881000    100.000000     0.200000\n",
       "25%      37.902400   -81.694150   3450.000000     2.100000\n",
       "50%      38.477800   -80.831400   6400.000000     2.400000\n",
       "75%      41.467200   -75.934050  11500.000000     2.600000\n",
       "max      45.300900   -73.063400  32300.000000     5.200000"
      ]
     },
     "execution_count": 14,
     "metadata": {},
     "output_type": "execute_result"
    }
   ],
   "source": [
    "\n",
    "df.describe()"
   ]
  },
  {
   "cell_type": "code",
   "execution_count": 15,
   "metadata": {
    "colab": {
     "base_uri": "https://localhost:8080/",
     "height": 265
    },
    "id": "USSAyimPYBM_",
    "outputId": "0e94f233-f179-45c0-9e00-56c521bb9eb3"
   },
   "outputs": [
    {
     "data": {
      "image/png": "[encoded data removed]",
      "text/plain": [
       "<Figure size 432x288 with 1 Axes>"
      ]
     },
     "metadata": {
      "needs_background": "light"
     },
     "output_type": "display_data"
    },
    {
     "data": {
      "image/png": "[encoded data removed]",
      "text/plain": [
       "<Figure size 432x288 with 1 Axes>"
      ]
     },
     "metadata": {
      "needs_background": "light"
     },
     "output_type": "display_data"
    },
    {
     "data": {
      "image/png": "[encoded data removed]",
      "text/plain": [
       "<Figure size 432x288 with 1 Axes>"
      ]
     },
     "metadata": {
      "needs_background": "light"
     },
     "output_type": "display_data"
    },
    {
     "data": {
      "image/png": "[encoded data removed]",
      "text/plain": [
       "<Figure size 432x288 with 1 Axes>"
      ]
     },
     "metadata": {
      "needs_background": "light"
     },
     "output_type": "display_data"
    }
   ],
   "source": [
    "df['Latitude'].plot.box()\n",
    "plt.show()\n",
    "df['Longitude'].plot.box()\n",
    "plt.show()\n",
    "df['DepthMeters'].plot.box()\n",
    "plt.show()\n",
    "df['Magnitude'].plot.box()\n",
    "plt.show()"
   ]
  },
  {
   "cell_type": "code",
   "execution_count": 16,
   "metadata": {
    "id": "FLCltDTdYBNA"
   },
   "outputs": [],
   "source": [
    "\n",
    "def identify_outliers(data,col):\n",
    "  Q1= data[col].quantile(0.25)\n",
    "  Q3= data[col].quantile(0.75)\n",
    "  IQR= Q3-Q1\n",
    "\n",
    "  rowindex= data.index[((data[col]<(Q1-1.5*IQR)) | (data[col]> (Q3+1.5*IQR)))]\n",
    "  return rowindex"
   ]
  },
  {
   "cell_type": "code",
   "execution_count": 17,
   "metadata": {
    "id": "5XX-tUSgeVO7"
   },
   "outputs": [],
   "source": [
    "\n",
    "\n",
    "row_index_list=[] \n",
    "for col in df.columns :\n",
    "  row_index_list.extend(identify_outliers(df,col))"
   ]
  },
  {
   "cell_type": "code",
   "execution_count": 18,
   "metadata": {
    "id": "4ilCwS-1fQm0"
   },
   "outputs": [],
   "source": [
    "clean_data= df.drop(row_index_list)"
   ]
  },
  {
   "cell_type": "code",
   "execution_count": 19,
   "metadata": {
    "colab": {
     "base_uri": "https://localhost:8080/"
    },
    "id": "53AdV-vofaq6",
    "outputId": "53b4dc71-29a1-4ee6-8c9b-94ded8119d6a"
   },
   "outputs": [
    {
     "data": {
      "text/plain": [
       "(1562, 4)"
      ]
     },
     "execution_count": 19,
     "metadata": {},
     "output_type": "execute_result"
    }
   ],
   "source": [
    "clean_data.shape"
   ]
  },
  {
   "cell_type": "code",
   "execution_count": 20,
   "metadata": {
    "id": "pTys2lQtYBNB"
   },
   "outputs": [],
   "source": [
    "\n",
    "\n",
    "clean_data= clean_data.drop(['Longitude','Latitude'],axis=1)\n"
   ]
  },
  {
   "cell_type": "code",
   "execution_count": 21,
   "metadata": {
    "colab": {
     "base_uri": "https://localhost:8080/"
    },
    "id": "fRRlKN9Rg1Y-",
    "outputId": "79dd924d-75b3-4470-a331-59764fda1712"
   },
   "outputs": [
    {
     "data": {
      "text/plain": [
       "(1562, 2)"
      ]
     },
     "execution_count": 21,
     "metadata": {},
     "output_type": "execute_result"
    }
   ],
   "source": [
    "clean_data.shape"
   ]
  },
  {
   "cell_type": "code",
   "execution_count": 22,
   "metadata": {
    "id": "wapsD5DBYBNB"
   },
   "outputs": [],
   "source": [
    "\n",
    "\n",
    "from sklearn.preprocessing import StandardScaler"
   ]
  },
  {
   "cell_type": "code",
   "execution_count": 23,
   "metadata": {
    "id": "_jv8OIyUhXW4"
   },
   "outputs": [],
   "source": [
    "ss= StandardScaler()\n",
    "data= ss.fit_transform(clean_data)"
   ]
  },
  {
   "cell_type": "code",
   "execution_count": 24,
   "metadata": {
    "colab": {
     "base_uri": "https://localhost:8080/",
     "height": 206
    },
    "id": "CkatjuVHhXaf",
    "outputId": "4206a060-888d-4acf-d15d-fde7aaed2806"
   },
   "outputs": [
    {
     "data": {
      "text/html": [
       "<div>\n",
       "<style scoped>\n",
       "    .dataframe tbody tr th:only-of-type {\n",
       "        vertical-align: middle;\n",
       "    }\n",
       "\n",
       "    .dataframe tbody tr th {\n",
       "        vertical-align: top;\n",
       "    }\n",
       "\n",
       "    .dataframe thead th {\n",
       "        text-align: right;\n",
       "    }\n",
       "</style>\n",
       "<table border=\"1\" class=\"dataframe\">\n",
       "  <thead>\n",
       "    <tr style=\"text-align: right;\">\n",
       "      <th></th>\n",
       "      <th>DepthMeters</th>\n",
       "      <th>Magnitude</th>\n",
       "    </tr>\n",
       "  </thead>\n",
       "  <tbody>\n",
       "    <tr>\n",
       "      <th>0</th>\n",
       "      <td>-0.488908</td>\n",
       "      <td>1.252394</td>\n",
       "    </tr>\n",
       "    <tr>\n",
       "      <th>1</th>\n",
       "      <td>0.803530</td>\n",
       "      <td>1.252394</td>\n",
       "    </tr>\n",
       "    <tr>\n",
       "      <th>2</th>\n",
       "      <td>2.095968</td>\n",
       "      <td>-0.735020</td>\n",
       "    </tr>\n",
       "    <tr>\n",
       "      <th>3</th>\n",
       "      <td>-0.488908</td>\n",
       "      <td>0.116729</td>\n",
       "    </tr>\n",
       "    <tr>\n",
       "      <th>4</th>\n",
       "      <td>-1.025767</td>\n",
       "      <td>0.116729</td>\n",
       "    </tr>\n",
       "  </tbody>\n",
       "</table>\n",
       "</div>"
      ],
      "text/plain": [
       "   DepthMeters  Magnitude\n",
       "0    -0.488908   1.252394\n",
       "1     0.803530   1.252394\n",
       "2     2.095968  -0.735020\n",
       "3    -0.488908   0.116729\n",
       "4    -1.025767   0.116729"
      ]
     },
     "execution_count": 24,
     "metadata": {},
     "output_type": "execute_result"
    }
   ],
   "source": [
    "data= pd.DataFrame(data,columns=['DepthMeters','Magnitude'])\n",
    "data.head()\n"
   ]
  },
  {
   "cell_type": "code",
   "execution_count": 25,
   "metadata": {
    "colab": {
     "base_uri": "https://localhost:8080/",
     "height": 300
    },
    "id": "vTfmFi29iM95",
    "outputId": "2bb175bd-d6f1-482a-a285-616954d9a8eb"
   },
   "outputs": [
    {
     "data": {
      "text/html": [
       "<div>\n",
       "<style scoped>\n",
       "    .dataframe tbody tr th:only-of-type {\n",
       "        vertical-align: middle;\n",
       "    }\n",
       "\n",
       "    .dataframe tbody tr th {\n",
       "        vertical-align: top;\n",
       "    }\n",
       "\n",
       "    .dataframe thead th {\n",
       "        text-align: right;\n",
       "    }\n",
       "</style>\n",
       "<table border=\"1\" class=\"dataframe\">\n",
       "  <thead>\n",
       "    <tr style=\"text-align: right;\">\n",
       "      <th></th>\n",
       "      <th>DepthMeters</th>\n",
       "      <th>Magnitude</th>\n",
       "    </tr>\n",
       "  </thead>\n",
       "  <tbody>\n",
       "    <tr>\n",
       "      <th>count</th>\n",
       "      <td>1562.000</td>\n",
       "      <td>1562.000</td>\n",
       "    </tr>\n",
       "    <tr>\n",
       "      <th>mean</th>\n",
       "      <td>0.000</td>\n",
       "      <td>0.000</td>\n",
       "    </tr>\n",
       "    <tr>\n",
       "      <th>std</th>\n",
       "      <td>1.000</td>\n",
       "      <td>1.000</td>\n",
       "    </tr>\n",
       "    <tr>\n",
       "      <th>min</th>\n",
       "      <td>-1.463</td>\n",
       "      <td>-2.751</td>\n",
       "    </tr>\n",
       "    <tr>\n",
       "      <th>25%</th>\n",
       "      <td>-0.807</td>\n",
       "      <td>-0.735</td>\n",
       "    </tr>\n",
       "    <tr>\n",
       "      <th>50%</th>\n",
       "      <td>-0.211</td>\n",
       "      <td>0.117</td>\n",
       "    </tr>\n",
       "    <tr>\n",
       "      <th>75%</th>\n",
       "      <td>0.804</td>\n",
       "      <td>0.685</td>\n",
       "    </tr>\n",
       "    <tr>\n",
       "      <th>max</th>\n",
       "      <td>3.090</td>\n",
       "      <td>2.672</td>\n",
       "    </tr>\n",
       "  </tbody>\n",
       "</table>\n",
       "</div>"
      ],
      "text/plain": [
       "       DepthMeters  Magnitude\n",
       "count     1562.000   1562.000\n",
       "mean         0.000      0.000\n",
       "std          1.000      1.000\n",
       "min         -1.463     -2.751\n",
       "25%         -0.807     -0.735\n",
       "50%         -0.211      0.117\n",
       "75%          0.804      0.685\n",
       "max          3.090      2.672"
      ]
     },
     "execution_count": 25,
     "metadata": {},
     "output_type": "execute_result"
    }
   ],
   "source": [
    "round(data.describe(),3)"
   ]
  },
  {
   "cell_type": "code",
   "execution_count": 26,
   "metadata": {
    "id": "39lpvXMpYBNC"
   },
   "outputs": [],
   "source": [
    "\n",
    "\n",
    "from sklearn.cluster import KMeans"
   ]
  },
  {
   "cell_type": "code",
   "execution_count": 27,
   "metadata": {
    "id": "v-M_coQ3kJta"
   },
   "outputs": [],
   "source": [
    "wcss=[]\n",
    "for i in range(1,8):\n",
    "  kmean= KMeans(i)\n",
    "  kmean.fit(data)\n",
    "  wcss.append(kmean.inertia_)"
   ]
  },
  {
   "cell_type": "code",
   "execution_count": 28,
   "metadata": {
    "colab": {
     "base_uri": "https://localhost:8080/"
    },
    "id": "vsC-IiSTkxw5",
    "outputId": "5cd3a145-e83f-4f02-d616-ee4cf819cb5c"
   },
   "outputs": [
    {
     "data": {
      "text/plain": [
       "[3124.0,\n",
       " 1943.5822119519084,\n",
       " 1257.977080004928,\n",
       " 964.2748832142155,\n",
       " 790.5899314514642,\n",
       " 672.966828073821,\n",
       " 590.9450394459951]"
      ]
     },
     "execution_count": 28,
     "metadata": {},
     "output_type": "execute_result"
    }
   ],
   "source": [
    "wcss"
   ]
  },
  {
   "cell_type": "code",
   "execution_count": 29,
   "metadata": {
    "colab": {
     "base_uri": "https://localhost:8080/",
     "height": 312
    },
    "id": "T27sqbwXYBND",
    "outputId": "06769111-ae61-4615-847e-8c02232a7d8c"
   },
   "outputs": [
    {
     "data": {
      "text/plain": [
       "[]"
      ]
     },
     "execution_count": 29,
     "metadata": {},
     "output_type": "execute_result"
    },
    {
     "data": {
      "image/png": "[encoded data removed]",
      "text/plain": [
       "<Figure size 432x288 with 1 Axes>"
      ]
     },
     "metadata": {
      "needs_background": "light"
     },
     "output_type": "display_data"
    }
   ],
   "source": [
    "\n",
    "plt.plot(wcss)\n",
    "plt.title(\"Elbow plot\")\n",
    "plt.xlabel('No. of cluster')\n",
    "plt.ylabel('WCSS')\n",
    "plt.plot()"
   ]
  },
  {
   "cell_type": "code",
   "execution_count": 30,
   "metadata": {
    "colab": {
     "base_uri": "https://localhost:8080/"
    },
    "id": "6T2ovgsKYBND",
    "outputId": "929b2992-04f5-4d99-89a9-7a43f1898ca0"
   },
   "outputs": [
    {
     "name": "stdout",
     "output_type": "stream",
     "text": [
      "silhouette score : 0.3743704735416158\n",
      "silhouette score : 0.39268003903375004\n",
      "silhouette score : 0.3675083071920705\n",
      "silhouette score : 0.3470760189754388\n",
      "silhouette score : 0.3458336784043734\n",
      "silhouette score : 0.3421864845094053\n"
     ]
    }
   ],
   "source": [
    "\n",
    "\n",
    "from sklearn.metrics import silhouette_score\n",
    "sc_score=[]\n",
    "for i in range(2,8):\n",
    "  kmean=KMeans(i)\n",
    "  kmean.fit(data)\n",
    "  label=kmean.predict(data)\n",
    "  print(f'silhouette score : {silhouette_score(data,label)}')\n",
    "  sc_score.append(silhouette_score(data,label))\n",
    "  "
   ]
  },
  {
   "cell_type": "code",
   "execution_count": 31,
   "metadata": {
    "colab": {
     "base_uri": "https://localhost:8080/",
     "height": 282
    },
    "id": "KsazBUlDYBNE",
    "outputId": "73030cbd-1eda-4e93-b301-6b2d60e60f11"
   },
   "outputs": [
    {
     "data": {
      "text/plain": [
       "[<matplotlib.lines.Line2D at 0x26c46930400>]"
      ]
     },
     "execution_count": 31,
     "metadata": {},
     "output_type": "execute_result"
    },
    {
     "data": {
      "image/png": "[encoded data removed]",
      "text/plain": [
       "<Figure size 432x288 with 1 Axes>"
      ]
     },
     "metadata": {
      "needs_background": "light"
     },
     "output_type": "display_data"
    }
   ],
   "source": [
    "\n",
    "plt.plot(sc_score)\n"
   ]
  },
  {
   "cell_type": "code",
   "execution_count": 45,
   "metadata": {
    "id": "zQUHjk-4YBNF"
   },
   "outputs": [],
   "source": [
    "\n",
    "\n",
    "model= KMeans(3)\n",
    "m=model.fit(data)"
   ]
  },
  {
   "cell_type": "code",
   "execution_count": 46,
   "metadata": {
    "colab": {
     "base_uri": "https://localhost:8080/"
    },
    "id": "dWRtLUgTYBNG",
    "outputId": "25773d29-3dba-49ec-dbfd-2af5fa03faf8"
   },
   "outputs": [
    {
     "data": {
      "text/plain": [
       "0    685\n",
       "1    477\n",
       "2    400\n",
       "Name: cluster, dtype: int64"
      ]
     },
     "execution_count": 46,
     "metadata": {},
     "output_type": "execute_result"
    }
   ],
   "source": [
    "\n",
    "\n",
    "data['cluster']= m.labels_\n",
    "\n",
    "data['cluster'].value_counts()"
   ]
  },
  {
   "cell_type": "code",
   "execution_count": 47,
   "metadata": {
    "id": "svzZJd6qYBNG"
   },
   "outputs": [],
   "source": [
    "\n",
    "\n",
    "l0=data[data['cluster']==0]\n",
    "l1=data[data['cluster']==1]\n",
    "l2=data[data['cluster']==2]\n"
   ]
  },
  {
   "cell_type": "code",
   "execution_count": 48,
   "metadata": {
    "colab": {
     "base_uri": "https://localhost:8080/",
     "height": 347
    },
    "id": "wT2fzDgfur7K",
    "outputId": "523f1458-0032-452c-a6a6-40da67580156"
   },
   "outputs": [
    {
     "data": {
      "image/png": "[encoded data removed]",
      "text/plain": [
       "<Figure size 576x396 with 1 Axes>"
      ]
     },
     "metadata": {},
     "output_type": "display_data"
    }
   ],
   "source": [
    "plt.scatter(l0['Magnitude'],l0['DepthMeters'])\n",
    "plt.scatter(l1['Magnitude'],l1['DepthMeters'])\n",
    "plt.scatter(l2['Magnitude'],l2['DepthMeters'])\n",
    "plt.show()\n"
   ]
  },
  {
   "cell_type": "code",
   "execution_count": 49,
   "metadata": {
    "colab": {
     "base_uri": "https://localhost:8080/"
    },
    "id": "bxEbgnVxYBNH",
    "outputId": "b687174c-10f3-4287-bc42-e54fda4b0360"
   },
   "outputs": [
    {
     "data": {
      "text/plain": [
       "array([[-0.71964524,  0.59192623],\n",
       "       [ 1.17474623,  0.16696511],\n",
       "       [-0.16849241, -1.21277955]])"
      ]
     },
     "execution_count": 49,
     "metadata": {},
     "output_type": "execute_result"
    }
   ],
   "source": [
    "\n",
    "\n",
    "m.cluster_centers_"
   ]
  },
  {
   "cell_type": "code",
   "execution_count": 50,
   "metadata": {
    "colab": {
     "base_uri": "https://localhost:8080/",
     "height": 300
    },
    "id": "2Cg7qBzyYBNH",
    "outputId": "693455a8-6fdb-4867-a79d-95a28fe4e7d5"
   },
   "outputs": [
    {
     "data": {
      "text/html": [
       "<div>\n",
       "<style scoped>\n",
       "    .dataframe tbody tr th:only-of-type {\n",
       "        vertical-align: middle;\n",
       "    }\n",
       "\n",
       "    .dataframe tbody tr th {\n",
       "        vertical-align: top;\n",
       "    }\n",
       "\n",
       "    .dataframe thead th {\n",
       "        text-align: right;\n",
       "    }\n",
       "</style>\n",
       "<table border=\"1\" class=\"dataframe\">\n",
       "  <thead>\n",
       "    <tr style=\"text-align: right;\">\n",
       "      <th></th>\n",
       "      <th>DepthMeters</th>\n",
       "      <th>Magnitude</th>\n",
       "      <th>cluster</th>\n",
       "    </tr>\n",
       "  </thead>\n",
       "  <tbody>\n",
       "    <tr>\n",
       "      <th>count</th>\n",
       "      <td>685.000000</td>\n",
       "      <td>685.000000</td>\n",
       "      <td>685.0</td>\n",
       "    </tr>\n",
       "    <tr>\n",
       "      <th>mean</th>\n",
       "      <td>-0.719645</td>\n",
       "      <td>0.591926</td>\n",
       "      <td>0.0</td>\n",
       "    </tr>\n",
       "    <tr>\n",
       "      <th>std</th>\n",
       "      <td>0.500074</td>\n",
       "      <td>0.651461</td>\n",
       "      <td>0.0</td>\n",
       "    </tr>\n",
       "    <tr>\n",
       "      <th>min</th>\n",
       "      <td>-1.463207</td>\n",
       "      <td>-0.451103</td>\n",
       "      <td>0.0</td>\n",
       "    </tr>\n",
       "    <tr>\n",
       "      <th>25%</th>\n",
       "      <td>-1.184836</td>\n",
       "      <td>0.116729</td>\n",
       "      <td>0.0</td>\n",
       "    </tr>\n",
       "    <tr>\n",
       "      <th>50%</th>\n",
       "      <td>-0.747395</td>\n",
       "      <td>0.400645</td>\n",
       "      <td>0.0</td>\n",
       "    </tr>\n",
       "    <tr>\n",
       "      <th>75%</th>\n",
       "      <td>-0.369606</td>\n",
       "      <td>0.968478</td>\n",
       "      <td>0.0</td>\n",
       "    </tr>\n",
       "    <tr>\n",
       "      <th>max</th>\n",
       "      <td>0.505275</td>\n",
       "      <td>2.671975</td>\n",
       "      <td>0.0</td>\n",
       "    </tr>\n",
       "  </tbody>\n",
       "</table>\n",
       "</div>"
      ],
      "text/plain": [
       "       DepthMeters   Magnitude  cluster\n",
       "count   685.000000  685.000000    685.0\n",
       "mean     -0.719645    0.591926      0.0\n",
       "std       0.500074    0.651461      0.0\n",
       "min      -1.463207   -0.451103      0.0\n",
       "25%      -1.184836    0.116729      0.0\n",
       "50%      -0.747395    0.400645      0.0\n",
       "75%      -0.369606    0.968478      0.0\n",
       "max       0.505275    2.671975      0.0"
      ]
     },
     "execution_count": 50,
     "metadata": {},
     "output_type": "execute_result"
    }
   ],
   "source": [
    "\n",
    "l0.describe()"
   ]
  },
  {
   "cell_type": "code",
   "execution_count": 51,
   "metadata": {
    "colab": {
     "base_uri": "https://localhost:8080/",
     "height": 300
    },
    "id": "l0HS7UkOYBNI",
    "outputId": "c5bc5b43-218f-488b-bbad-4f6e3b42eaa5"
   },
   "outputs": [
    {
     "data": {
      "text/html": [
       "<div>\n",
       "<style scoped>\n",
       "    .dataframe tbody tr th:only-of-type {\n",
       "        vertical-align: middle;\n",
       "    }\n",
       "\n",
       "    .dataframe tbody tr th {\n",
       "        vertical-align: top;\n",
       "    }\n",
       "\n",
       "    .dataframe thead th {\n",
       "        text-align: right;\n",
       "    }\n",
       "</style>\n",
       "<table border=\"1\" class=\"dataframe\">\n",
       "  <thead>\n",
       "    <tr style=\"text-align: right;\">\n",
       "      <th></th>\n",
       "      <th>DepthMeters</th>\n",
       "      <th>Magnitude</th>\n",
       "      <th>cluster</th>\n",
       "    </tr>\n",
       "  </thead>\n",
       "  <tbody>\n",
       "    <tr>\n",
       "      <th>count</th>\n",
       "      <td>477.000000</td>\n",
       "      <td>477.000000</td>\n",
       "      <td>477.0</td>\n",
       "    </tr>\n",
       "    <tr>\n",
       "      <th>mean</th>\n",
       "      <td>1.174746</td>\n",
       "      <td>0.166965</td>\n",
       "      <td>1.0</td>\n",
       "    </tr>\n",
       "    <tr>\n",
       "      <th>std</th>\n",
       "      <td>0.566041</td>\n",
       "      <td>0.774963</td>\n",
       "      <td>0.0</td>\n",
       "    </tr>\n",
       "    <tr>\n",
       "      <th>min</th>\n",
       "      <td>0.167253</td>\n",
       "      <td>-2.154601</td>\n",
       "      <td>1.0</td>\n",
       "    </tr>\n",
       "    <tr>\n",
       "      <th>25%</th>\n",
       "      <td>0.763763</td>\n",
       "      <td>-0.451103</td>\n",
       "      <td>1.0</td>\n",
       "    </tr>\n",
       "    <tr>\n",
       "      <th>50%</th>\n",
       "      <td>1.121669</td>\n",
       "      <td>0.116729</td>\n",
       "      <td>1.0</td>\n",
       "    </tr>\n",
       "    <tr>\n",
       "      <th>75%</th>\n",
       "      <td>1.479575</td>\n",
       "      <td>0.684562</td>\n",
       "      <td>1.0</td>\n",
       "    </tr>\n",
       "    <tr>\n",
       "      <th>max</th>\n",
       "      <td>3.090151</td>\n",
       "      <td>2.671975</td>\n",
       "      <td>1.0</td>\n",
       "    </tr>\n",
       "  </tbody>\n",
       "</table>\n",
       "</div>"
      ],
      "text/plain": [
       "       DepthMeters   Magnitude  cluster\n",
       "count   477.000000  477.000000    477.0\n",
       "mean      1.174746    0.166965      1.0\n",
       "std       0.566041    0.774963      0.0\n",
       "min       0.167253   -2.154601      1.0\n",
       "25%       0.763763   -0.451103      1.0\n",
       "50%       1.121669    0.116729      1.0\n",
       "75%       1.479575    0.684562      1.0\n",
       "max       3.090151    2.671975      1.0"
      ]
     },
     "execution_count": 51,
     "metadata": {},
     "output_type": "execute_result"
    }
   ],
   "source": [
    "\n",
    "l1.describe()"
   ]
  },
  {
   "cell_type": "code",
   "execution_count": 52,
   "metadata": {
    "colab": {
     "base_uri": "https://localhost:8080/",
     "height": 300
    },
    "id": "aGSPWnppYBNI",
    "outputId": "4e1b5e88-ad42-48dd-982c-e7b093c93fc9"
   },
   "outputs": [
    {
     "data": {
      "text/html": [
       "<div>\n",
       "<style scoped>\n",
       "    .dataframe tbody tr th:only-of-type {\n",
       "        vertical-align: middle;\n",
       "    }\n",
       "\n",
       "    .dataframe tbody tr th {\n",
       "        vertical-align: top;\n",
       "    }\n",
       "\n",
       "    .dataframe thead th {\n",
       "        text-align: right;\n",
       "    }\n",
       "</style>\n",
       "<table border=\"1\" class=\"dataframe\">\n",
       "  <thead>\n",
       "    <tr style=\"text-align: right;\">\n",
       "      <th></th>\n",
       "      <th>DepthMeters</th>\n",
       "      <th>Magnitude</th>\n",
       "      <th>cluster</th>\n",
       "    </tr>\n",
       "  </thead>\n",
       "  <tbody>\n",
       "    <tr>\n",
       "      <th>count</th>\n",
       "      <td>400.000000</td>\n",
       "      <td>400.000000</td>\n",
       "      <td>400.0</td>\n",
       "    </tr>\n",
       "    <tr>\n",
       "      <th>mean</th>\n",
       "      <td>-0.168492</td>\n",
       "      <td>-1.212780</td>\n",
       "      <td>2.0</td>\n",
       "    </tr>\n",
       "    <tr>\n",
       "      <th>std</th>\n",
       "      <td>0.732445</td>\n",
       "      <td>0.601168</td>\n",
       "      <td>0.0</td>\n",
       "    </tr>\n",
       "    <tr>\n",
       "      <th>min</th>\n",
       "      <td>-1.463207</td>\n",
       "      <td>-2.750825</td>\n",
       "      <td>2.0</td>\n",
       "    </tr>\n",
       "    <tr>\n",
       "      <th>25%</th>\n",
       "      <td>-0.647977</td>\n",
       "      <td>-1.586768</td>\n",
       "      <td>2.0</td>\n",
       "    </tr>\n",
       "    <tr>\n",
       "      <th>50%</th>\n",
       "      <td>-0.290071</td>\n",
       "      <td>-1.018936</td>\n",
       "      <td>2.0</td>\n",
       "    </tr>\n",
       "    <tr>\n",
       "      <th>75%</th>\n",
       "      <td>0.261203</td>\n",
       "      <td>-0.735020</td>\n",
       "      <td>2.0</td>\n",
       "    </tr>\n",
       "    <tr>\n",
       "      <th>max</th>\n",
       "      <td>2.215270</td>\n",
       "      <td>-0.365928</td>\n",
       "      <td>2.0</td>\n",
       "    </tr>\n",
       "  </tbody>\n",
       "</table>\n",
       "</div>"
      ],
      "text/plain": [
       "       DepthMeters   Magnitude  cluster\n",
       "count   400.000000  400.000000    400.0\n",
       "mean     -0.168492   -1.212780      2.0\n",
       "std       0.732445    0.601168      0.0\n",
       "min      -1.463207   -2.750825      2.0\n",
       "25%      -0.647977   -1.586768      2.0\n",
       "50%      -0.290071   -1.018936      2.0\n",
       "75%       0.261203   -0.735020      2.0\n",
       "max       2.215270   -0.365928      2.0"
      ]
     },
     "execution_count": 52,
     "metadata": {},
     "output_type": "execute_result"
    }
   ],
   "source": [
    "\n",
    "l2.describe()"
   ]
  },
  {
   "cell_type": "code",
   "execution_count": null,
   "metadata": {
    "id": "owuKKRObv_P4"
   },
   "outputs": [],
   "source": []
  },
  {
   "cell_type": "code",
   "execution_count": null,
   "metadata": {},
   "outputs": [],
   "source": []
  },
  {
   "cell_type": "code",
   "execution_count": null,
   "metadata": {},
   "outputs": [],
   "source": []
  }
 ],
 "metadata": {
  "colab": {
   "name": "USL - In-Class Lab Exercise (Week 1) - Questions .ipynb",
   "provenance": []
  },
  "kernelspec": {
   "display_name": "Python 3 (ipykernel)",
   "language": "python",
   "name": "python3"
  },
  "language_info": {
   "codemirror_mode": {
    "name": "ipython",
    "version": 3
   },
   "file_extension": ".py",
   "mimetype": "text/x-python",
   "name": "python",
   "nbconvert_exporter": "python",
   "pygments_lexer": "ipython3",
   "version": "3.9.7"
  }
 },
 "nbformat": 4,
 "nbformat_minor": 1
}
